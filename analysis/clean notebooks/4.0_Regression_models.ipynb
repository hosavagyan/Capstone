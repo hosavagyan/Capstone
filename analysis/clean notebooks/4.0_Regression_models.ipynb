{
 "cells": [
  {
   "cell_type": "code",
   "execution_count": 1,
   "metadata": {},
   "outputs": [],
   "source": [
    "import pandas as pd \n",
    "import numpy as np\n",
    "from sklearn.preprocessing import MinMaxScaler \n",
    "import matplotlib.pyplot as plt\n",
    "from keras.layers import Input, Dense\n",
    "from keras.models import Model, Sequential\n",
    "from keras import regularizers\n",
    "from sklearn.linear_model import LinearRegression\n",
    "from sklearn.tree import DecisionTreeRegressor\n",
    "from sklearn.neighbors import NearestNeighbors"
   ]
  },
  {
   "cell_type": "code",
   "execution_count": 30,
   "metadata": {},
   "outputs": [],
   "source": [
    "plant=1\n",
    "model=\"decisiontree\"\n",
    "partial_error=True\n",
    "if (\"autoencoder\" in model)&(partial_error):\n",
    "    print(\"warning! partial error is not implemented for autoencoder\")"
   ]
  },
  {
   "cell_type": "code",
   "execution_count": 2,
   "metadata": {},
   "outputs": [],
   "source": [
    "weather_data = pd.read_csv('../data/Plant_'+str(plant)+'_Weather_Sensor_Data.csv')\n",
    "gen_data = pd.read_csv('../data/Plant_'+str(plant)+'_Generation_Data.csv')\n",
    "weather_data['DATE_TIME']= pd.to_datetime(weather_data['DATE_TIME'])\n",
    "gen_data['DATE_TIME']= pd.to_datetime(gen_data['DATE_TIME'])\n",
    "weather_data['DAY'] = pd.DatetimeIndex(weather_data['DATE_TIME']).dayofyear\n",
    "weather_data['TIME'] = weather_data.DATE_TIME.dt.hour * 60 + weather_data.DATE_TIME.dt.minute\n",
    "weather_data['Time'] = weather_data.DATE_TIME.dt.time\n",
    "weather_data['HOUR'] = weather_data.DATE_TIME.dt.hour\n",
    "merged_df = pd.merge(gen_data, weather_data, how='inner', on=['DATE_TIME'], suffixes=('', '_y'))"
   ]
  },
  {
   "cell_type": "code",
   "execution_count": 3,
   "metadata": {},
   "outputs": [],
   "source": [
    "%matplotlib qt\n",
    "if model=='linear':\n",
    "    X = merged_df[['AMBIENT_TEMPERATURE', 'MODULE_TEMPERATURE', 'IRRADIATION']]\n",
    "    y = merged_df[['DC_POWER']]\n",
    "    X_scaled = MinMaxScaler().fit_transform(X)\n",
    "    reg = LinearRegression().fit(X, y)\n",
    "    y_pred = reg.predict(X)\n",
    "    merged_err=merged_df.join(pd.DataFrame(y_pred), rsuffix=\"_pred\")\n",
    "    merged_err.rename(columns={0: 'DC_POWER_pred'}, inplace=True)\n",
    "    merged_err['ERROR']=(merged_err['DC_POWER']-merged_err['DC_POWER_pred'])**2\n",
    "    plt.plot(y,  'r.', alpha=0.6,label='real')\n",
    "    plt.plot(y_pred, label='predicted')\n",
    "    plt.title('predicted vs. real DC power of train data')\n",
    "    plt.legend()\n",
    "elif model=='decisiontree':\n",
    "    X = merged_df[['AMBIENT_TEMPERATURE', 'MODULE_TEMPERATURE', 'IRRADIATION']]\n",
    "    y = merged_df[['DC_POWER']]\n",
    "    X_scaled = MinMaxScaler().fit_transform(X)\n",
    "    reg = DecisionTreeRegressor().fit(X, y)\n",
    "    y_pred = reg.predict(X)\n",
    "    merged_err=merged_df.join(pd.DataFrame(y_pred), rsuffix=\"_pred\")\n",
    "    merged_err.rename(columns={0: 'DC_POWER_pred'}, inplace=True)\n",
    "    merged_err['ERROR']=(merged_err['DC_POWER']-merged_err['DC_POWER_pred'])**2\n",
    "    plt.plot(y,  'r.', alpha=0.6,label='real')\n",
    "    plt.plot(y_pred, label='predicted')\n",
    "    plt.title('predicted vs. real DC power of train data')\n",
    "    plt.legend()\n",
    "elif model=='autoencodersimple':\n",
    "    X= merged_df[['DC_POWER', 'AMBIENT_TEMPERATURE', 'MODULE_TEMPERATURE', 'IRRADIATION']]\n",
    "    X_scaled = MinMaxScaler().fit_transform(X)\n",
    "    input_layer = Input(shape =(X.shape[1], ))\n",
    "    encoded = Dense(3, activation ='tanh', activity_regularizer = regularizers.l1(10e-5))(input_layer)\n",
    "    output_layer = Dense(X.shape[1], activation ='sigmoid')(encoded)\n",
    "    autoencoder = Model(input_layer, output_layer)\n",
    "    autoencoder.compile(optimizer =\"adam\", loss =\"mse\")\n",
    "    History=autoencoder.fit(X_scaled, X_scaled,batch_size = 100, epochs = 50,shuffle = True, validation_split = 0.10)\n",
    "    encoded_train_data=autoencoder.predict(X_scaled)\n",
    "    scaled_train_features = pd.DataFrame(encoded_train_data, index=X.index, columns=X.columns)\n",
    "    X_scaled_df=pd.DataFrame(X_scaled, index=X.index, columns=X.columns)\n",
    "    train_mae_loss = np.mean((X_scaled_df - scaled_train_features)**2, axis=1)\n",
    "    merged_err=merged_df.join(pd.DataFrame(train_mae_loss))\n",
    "    merged_err.rename(columns={0: 'ERROR'}, inplace=True)\n",
    "    plt.plot(X_scaled_df.DC_POWER,  'r.', alpha=0.6,label='real')\n",
    "    plt.plot(scaled_train_features.DC_POWER, label='predicted')\n",
    "    plt.title('predicted vs. real DC power of train data')\n",
    "    plt.legend()\n",
    "elif model=='autoencodermedium':\n",
    "    X= merged_df[['DC_POWER', 'AMBIENT_TEMPERATURE', 'MODULE_TEMPERATURE', 'IRRADIATION']]\n",
    "    X_scaled = MinMaxScaler().fit_transform(X)\n",
    "    input_layer = Input(shape =(X.shape[1], ))\n",
    "    encoded = Dense(6, activation ='relu',activity_regularizer = regularizers.l1(10e-5))(input_layer)\n",
    "    encoded = Dense(3, activation ='relu',activity_regularizer = regularizers.l1(10e-5))(encoded)\n",
    "    output_layer = Dense(X.shape[1], activation ='sigmoid')(encoded)\n",
    "    autoencoder = Model(input_layer, output_layer)\n",
    "    autoencoder.compile(optimizer =\"adam\", loss =\"mse\")\n",
    "    History=autoencoder.fit(X_scaled, X_scaled,batch_size = 100, epochs = 40,shuffle = True, validation_split = 0.10)\n",
    "    encoded_train_data=autoencoder.predict(X_scaled)\n",
    "    scaled_train_features = pd.DataFrame(encoded_train_data, index=X.index, columns=X.columns)\n",
    "    X_scaled_df=pd.DataFrame(X_scaled, index=X.index, columns=X.columns)\n",
    "    train_mae_loss = np.mean((X_scaled_df - scaled_train_features)**2, axis=1)\n",
    "    merged_err=merged_df.join(pd.DataFrame(train_mae_loss))\n",
    "    merged_err.rename(columns={0: 'ERROR'}, inplace=True)\n",
    "    plt.plot(X_scaled_df.DC_POWER,  'r.', alpha=0.6,label='real')\n",
    "    plt.plot(scaled_train_features.DC_POWER, label='predicted')\n",
    "    plt.title('predicted vs. real DC power of train data')\n",
    "    plt.legend()\n",
    "if partial_error:\n",
    "    merged_err.loc[merged_err['DC_POWER']>merged_err['DC_POWER_pred'], 'ERROR']=0"
   ]
  },
  {
   "cell_type": "code",
   "execution_count": 4,
   "metadata": {},
   "outputs": [
    {
     "data": {
      "text/html": [
       "<div>\n",
       "<style scoped>\n",
       "    .dataframe tbody tr th:only-of-type {\n",
       "        vertical-align: middle;\n",
       "    }\n",
       "\n",
       "    .dataframe tbody tr th {\n",
       "        vertical-align: top;\n",
       "    }\n",
       "\n",
       "    .dataframe thead th {\n",
       "        text-align: right;\n",
       "    }\n",
       "</style>\n",
       "<table border=\"1\" class=\"dataframe\">\n",
       "  <thead>\n",
       "    <tr style=\"text-align: right;\">\n",
       "      <th></th>\n",
       "      <th>DATE_TIME</th>\n",
       "      <th>PLANT_ID</th>\n",
       "      <th>SOURCE_KEY</th>\n",
       "      <th>DC_POWER</th>\n",
       "      <th>AC_POWER</th>\n",
       "      <th>DAILY_YIELD</th>\n",
       "      <th>TOTAL_YIELD</th>\n",
       "      <th>PLANT_ID_y</th>\n",
       "      <th>SOURCE_KEY_y</th>\n",
       "      <th>AMBIENT_TEMPERATURE</th>\n",
       "      <th>MODULE_TEMPERATURE</th>\n",
       "      <th>IRRADIATION</th>\n",
       "      <th>DAY</th>\n",
       "      <th>TIME</th>\n",
       "      <th>Time</th>\n",
       "      <th>HOUR</th>\n",
       "      <th>DC_POWER_pred</th>\n",
       "      <th>ERROR</th>\n",
       "    </tr>\n",
       "  </thead>\n",
       "  <tbody>\n",
       "    <tr>\n",
       "      <th>0</th>\n",
       "      <td>2020-05-15</td>\n",
       "      <td>4135001</td>\n",
       "      <td>1BY6WEcLGh8j5v7</td>\n",
       "      <td>0.0</td>\n",
       "      <td>0.0</td>\n",
       "      <td>0.0</td>\n",
       "      <td>6259559.0</td>\n",
       "      <td>4135001</td>\n",
       "      <td>HmiyD2TTLFNqkNe</td>\n",
       "      <td>25.184316</td>\n",
       "      <td>22.857507</td>\n",
       "      <td>0.0</td>\n",
       "      <td>136</td>\n",
       "      <td>0</td>\n",
       "      <td>00:00:00</td>\n",
       "      <td>0</td>\n",
       "      <td>0.0</td>\n",
       "      <td>0.0</td>\n",
       "    </tr>\n",
       "    <tr>\n",
       "      <th>1</th>\n",
       "      <td>2020-05-15</td>\n",
       "      <td>4135001</td>\n",
       "      <td>1IF53ai7Xc0U56Y</td>\n",
       "      <td>0.0</td>\n",
       "      <td>0.0</td>\n",
       "      <td>0.0</td>\n",
       "      <td>6183645.0</td>\n",
       "      <td>4135001</td>\n",
       "      <td>HmiyD2TTLFNqkNe</td>\n",
       "      <td>25.184316</td>\n",
       "      <td>22.857507</td>\n",
       "      <td>0.0</td>\n",
       "      <td>136</td>\n",
       "      <td>0</td>\n",
       "      <td>00:00:00</td>\n",
       "      <td>0</td>\n",
       "      <td>0.0</td>\n",
       "      <td>0.0</td>\n",
       "    </tr>\n",
       "    <tr>\n",
       "      <th>2</th>\n",
       "      <td>2020-05-15</td>\n",
       "      <td>4135001</td>\n",
       "      <td>3PZuoBAID5Wc2HD</td>\n",
       "      <td>0.0</td>\n",
       "      <td>0.0</td>\n",
       "      <td>0.0</td>\n",
       "      <td>6987759.0</td>\n",
       "      <td>4135001</td>\n",
       "      <td>HmiyD2TTLFNqkNe</td>\n",
       "      <td>25.184316</td>\n",
       "      <td>22.857507</td>\n",
       "      <td>0.0</td>\n",
       "      <td>136</td>\n",
       "      <td>0</td>\n",
       "      <td>00:00:00</td>\n",
       "      <td>0</td>\n",
       "      <td>0.0</td>\n",
       "      <td>0.0</td>\n",
       "    </tr>\n",
       "    <tr>\n",
       "      <th>3</th>\n",
       "      <td>2020-05-15</td>\n",
       "      <td>4135001</td>\n",
       "      <td>7JYdWkrLSPkdwr4</td>\n",
       "      <td>0.0</td>\n",
       "      <td>0.0</td>\n",
       "      <td>0.0</td>\n",
       "      <td>7602960.0</td>\n",
       "      <td>4135001</td>\n",
       "      <td>HmiyD2TTLFNqkNe</td>\n",
       "      <td>25.184316</td>\n",
       "      <td>22.857507</td>\n",
       "      <td>0.0</td>\n",
       "      <td>136</td>\n",
       "      <td>0</td>\n",
       "      <td>00:00:00</td>\n",
       "      <td>0</td>\n",
       "      <td>0.0</td>\n",
       "      <td>0.0</td>\n",
       "    </tr>\n",
       "    <tr>\n",
       "      <th>4</th>\n",
       "      <td>2020-05-15</td>\n",
       "      <td>4135001</td>\n",
       "      <td>McdE0feGgRqW7Ca</td>\n",
       "      <td>0.0</td>\n",
       "      <td>0.0</td>\n",
       "      <td>0.0</td>\n",
       "      <td>7158964.0</td>\n",
       "      <td>4135001</td>\n",
       "      <td>HmiyD2TTLFNqkNe</td>\n",
       "      <td>25.184316</td>\n",
       "      <td>22.857507</td>\n",
       "      <td>0.0</td>\n",
       "      <td>136</td>\n",
       "      <td>0</td>\n",
       "      <td>00:00:00</td>\n",
       "      <td>0</td>\n",
       "      <td>0.0</td>\n",
       "      <td>0.0</td>\n",
       "    </tr>\n",
       "  </tbody>\n",
       "</table>\n",
       "</div>"
      ],
      "text/plain": [
       "   DATE_TIME  PLANT_ID       SOURCE_KEY  DC_POWER  AC_POWER  DAILY_YIELD  \\\n",
       "0 2020-05-15   4135001  1BY6WEcLGh8j5v7       0.0       0.0          0.0   \n",
       "1 2020-05-15   4135001  1IF53ai7Xc0U56Y       0.0       0.0          0.0   \n",
       "2 2020-05-15   4135001  3PZuoBAID5Wc2HD       0.0       0.0          0.0   \n",
       "3 2020-05-15   4135001  7JYdWkrLSPkdwr4       0.0       0.0          0.0   \n",
       "4 2020-05-15   4135001  McdE0feGgRqW7Ca       0.0       0.0          0.0   \n",
       "\n",
       "   TOTAL_YIELD  PLANT_ID_y     SOURCE_KEY_y  AMBIENT_TEMPERATURE  \\\n",
       "0    6259559.0     4135001  HmiyD2TTLFNqkNe            25.184316   \n",
       "1    6183645.0     4135001  HmiyD2TTLFNqkNe            25.184316   \n",
       "2    6987759.0     4135001  HmiyD2TTLFNqkNe            25.184316   \n",
       "3    7602960.0     4135001  HmiyD2TTLFNqkNe            25.184316   \n",
       "4    7158964.0     4135001  HmiyD2TTLFNqkNe            25.184316   \n",
       "\n",
       "   MODULE_TEMPERATURE  IRRADIATION  DAY  TIME      Time  HOUR  DC_POWER_pred  \\\n",
       "0           22.857507          0.0  136     0  00:00:00     0            0.0   \n",
       "1           22.857507          0.0  136     0  00:00:00     0            0.0   \n",
       "2           22.857507          0.0  136     0  00:00:00     0            0.0   \n",
       "3           22.857507          0.0  136     0  00:00:00     0            0.0   \n",
       "4           22.857507          0.0  136     0  00:00:00     0            0.0   \n",
       "\n",
       "   ERROR  \n",
       "0    0.0  \n",
       "1    0.0  \n",
       "2    0.0  \n",
       "3    0.0  \n",
       "4    0.0  "
      ]
     },
     "execution_count": 4,
     "metadata": {},
     "output_type": "execute_result"
    }
   ],
   "source": [
    "merged_err.head()"
   ]
  },
  {
   "cell_type": "code",
   "execution_count": 6,
   "metadata": {},
   "outputs": [],
   "source": [
    "def get_outliers_for_fit(data, x_column, y_column, groupby_column, output_column_name=False, window=False, outlier_limit=3):\n",
    "    if output_column_name==False:\n",
    "        output_column_name=column+\"_outliers\"\n",
    "    data[output_column_name]=0\n",
    "    data['gross_efficiency']=data[y_column]/data[x_column]\n",
    "    for i, group in  data.groupby(groupby_column):\n",
    "        resorted=group.reset_index().set_index('DATE_TIME').copy()\n",
    "        outlier_condition1=resorted[resorted[y_column]>0]['gross_efficiency']>(resorted[resorted[y_column]>0]['gross_efficiency'].rolling(window=window).mean() + (outlier_limit+1)*resorted[resorted[y_column]>0]['gross_efficiency'].rolling(window=window).std())\n",
    "        outlier_condition2=resorted[resorted[y_column]>0]['gross_efficiency']<(resorted[resorted[y_column]>0]['gross_efficiency'].rolling(window=window).mean() - outlier_limit*resorted[resorted[y_column]>0]['gross_efficiency'].rolling(window=window).std())            \n",
    "        outlier_condition3=resorted[resorted[y_column]>0][x_column]>0.1*resorted[resorted[y_column]>0][x_column].rolling(window=window).max()\n",
    "        data.loc[resorted[resorted[y_column]>0][(outlier_condition1|outlier_condition2)&outlier_condition3]['index'], output_column_name]=1\n",
    "        data.loc[resorted[(resorted[y_column]==0)&(resorted[x_column]>0.1*resorted[x_column].rolling(window=window).max())]['index'], output_column_name]=1\n",
    "    return data\n",
    "def get_outlier_errors(data, column, groupby_column, output_column_name=False, outlier_limit=3, window='7d'):\n",
    "    #cleaned_column='cleaned'\n",
    "    if output_column_name==False:\n",
    "        output_column_name=column+\"_outliers\"\n",
    "    data[output_column_name]=0\n",
    "    resorted=data.reset_index().set_index('DATE_TIME').copy()\n",
    "    outlier_condition1=resorted[resorted[column]>0][column]>(resorted[resorted[column]>0][column].rolling(window=window).mean() + (outlier_limit)*resorted[resorted[column]>0][column].rolling(window=window).std())\n",
    "    data.loc[resorted[resorted[column]>0][outlier_condition1]['index'], output_column_name]=1\n",
    "    return data"
   ]
  },
  {
   "cell_type": "code",
   "execution_count": 7,
   "metadata": {},
   "outputs": [],
   "source": [
    "merged_outliers=get_outlier_errors(merged_err, 'ERROR', 'SOURCE_KEY', output_column_name=\"alarm_DC_conversion_outlier\", window='7d', outlier_limit=8)\n",
    "merged_dc_outlier=get_outliers_for_fit(merged_outliers.copy(), 'IRRADIATION', 'DC_POWER', 'SOURCE_KEY', output_column_name=\"alarm_DC_conversion_outlier_targ\", window='7d', outlier_limit=4)"
   ]
  },
  {
   "cell_type": "code",
   "execution_count": 8,
   "metadata": {},
   "outputs": [
    {
     "data": {
      "image/png": "[encoded data removed]",
      "text/plain": [
       "<Figure size 1080x720 with 1 Axes>"
      ]
     },
     "metadata": {
      "needs_background": "light"
     },
     "output_type": "display_data"
    }
   ],
   "source": [
    "%matplotlib inline\n",
    "plt.figure(figsize=(15, 10))\n",
    "plt.plot(merged_dc_outlier['DATE_TIME'], merged_dc_outlier['ERROR'], '.')\n",
    "plt.plot(merged_dc_outlier[merged_dc_outlier[\"alarm_DC_conversion_outlier\"]==1]['DATE_TIME'], \n",
    "         merged_dc_outlier[merged_dc_outlier[\"alarm_DC_conversion_outlier\"]==1]['ERROR'], 'yx')\n",
    "plt.plot(merged_dc_outlier[merged_dc_outlier[\"alarm_DC_conversion_outlier_targ\"]==1]['DATE_TIME'], \n",
    "         merged_dc_outlier[merged_dc_outlier[\"alarm_DC_conversion_outlier_targ\"]==1]['ERROR'], 'r+')\n",
    "#plt.plot(merged_ac_conv_out[merged_ac_conv_out[\"alarm_AC_conversion_outlier\"]==1]['DATE_TIME'], \n",
    "#         merged_ac_conv_out[merged_ac_conv_out[\"alarm_AC_conversion_outlier\"]==1]['ERROR'], 'gx')\n",
    "plt.xlabel('Date time')\n",
    "plt.ylabel('error')\n",
    "plt.show()"
   ]
  },
  {
   "cell_type": "markdown",
   "metadata": {},
   "source": [
    "## 2. Inverter level efficiency"
   ]
  },
  {
   "cell_type": "markdown",
   "metadata": {},
   "source": [
    "#### Calculate a mean reconstruction error per inverter per day and then compare those mean values to find inverters with higher mean reconstruction error in a single day and then over several days."
   ]
  },
  {
   "cell_type": "code",
   "execution_count": 14,
   "metadata": {},
   "outputs": [],
   "source": [
    "def daily_inverter_error(data, column, groupby_column):\n",
    "    return pd.DataFrame(data.groupby(groupby_column)[column].mean()).reset_index()"
   ]
  },
  {
   "cell_type": "code",
   "execution_count": 15,
   "metadata": {
    "scrolled": true
   },
   "outputs": [
    {
     "data": {
      "text/html": [
       "<div>\n",
       "<style scoped>\n",
       "    .dataframe tbody tr th:only-of-type {\n",
       "        vertical-align: middle;\n",
       "    }\n",
       "\n",
       "    .dataframe tbody tr th {\n",
       "        vertical-align: top;\n",
       "    }\n",
       "\n",
       "    .dataframe thead th {\n",
       "        text-align: right;\n",
       "    }\n",
       "</style>\n",
       "<table border=\"1\" class=\"dataframe\">\n",
       "  <thead>\n",
       "    <tr style=\"text-align: right;\">\n",
       "      <th></th>\n",
       "      <th>SOURCE_KEY</th>\n",
       "      <th>DAY</th>\n",
       "      <th>ERROR</th>\n",
       "    </tr>\n",
       "  </thead>\n",
       "  <tbody>\n",
       "    <tr>\n",
       "      <th>0</th>\n",
       "      <td>1BY6WEcLGh8j5v7</td>\n",
       "      <td>136</td>\n",
       "      <td>270139.167191</td>\n",
       "    </tr>\n",
       "    <tr>\n",
       "      <th>1</th>\n",
       "      <td>1BY6WEcLGh8j5v7</td>\n",
       "      <td>137</td>\n",
       "      <td>48560.442569</td>\n",
       "    </tr>\n",
       "    <tr>\n",
       "      <th>2</th>\n",
       "      <td>1BY6WEcLGh8j5v7</td>\n",
       "      <td>138</td>\n",
       "      <td>269571.209204</td>\n",
       "    </tr>\n",
       "    <tr>\n",
       "      <th>3</th>\n",
       "      <td>1BY6WEcLGh8j5v7</td>\n",
       "      <td>139</td>\n",
       "      <td>73352.106008</td>\n",
       "    </tr>\n",
       "    <tr>\n",
       "      <th>4</th>\n",
       "      <td>1BY6WEcLGh8j5v7</td>\n",
       "      <td>140</td>\n",
       "      <td>121616.274972</td>\n",
       "    </tr>\n",
       "    <tr>\n",
       "      <th>...</th>\n",
       "      <td>...</td>\n",
       "      <td>...</td>\n",
       "      <td>...</td>\n",
       "    </tr>\n",
       "    <tr>\n",
       "      <th>743</th>\n",
       "      <td>zVJPv84UY57bAof</td>\n",
       "      <td>165</td>\n",
       "      <td>87223.331208</td>\n",
       "    </tr>\n",
       "    <tr>\n",
       "      <th>744</th>\n",
       "      <td>zVJPv84UY57bAof</td>\n",
       "      <td>166</td>\n",
       "      <td>9113.392341</td>\n",
       "    </tr>\n",
       "    <tr>\n",
       "      <th>745</th>\n",
       "      <td>zVJPv84UY57bAof</td>\n",
       "      <td>167</td>\n",
       "      <td>25638.520415</td>\n",
       "    </tr>\n",
       "    <tr>\n",
       "      <th>746</th>\n",
       "      <td>zVJPv84UY57bAof</td>\n",
       "      <td>168</td>\n",
       "      <td>4982.430872</td>\n",
       "    </tr>\n",
       "    <tr>\n",
       "      <th>747</th>\n",
       "      <td>zVJPv84UY57bAof</td>\n",
       "      <td>169</td>\n",
       "      <td>15037.751623</td>\n",
       "    </tr>\n",
       "  </tbody>\n",
       "</table>\n",
       "<p>748 rows × 3 columns</p>\n",
       "</div>"
      ],
      "text/plain": [
       "          SOURCE_KEY  DAY          ERROR\n",
       "0    1BY6WEcLGh8j5v7  136  270139.167191\n",
       "1    1BY6WEcLGh8j5v7  137   48560.442569\n",
       "2    1BY6WEcLGh8j5v7  138  269571.209204\n",
       "3    1BY6WEcLGh8j5v7  139   73352.106008\n",
       "4    1BY6WEcLGh8j5v7  140  121616.274972\n",
       "..               ...  ...            ...\n",
       "743  zVJPv84UY57bAof  165   87223.331208\n",
       "744  zVJPv84UY57bAof  166    9113.392341\n",
       "745  zVJPv84UY57bAof  167   25638.520415\n",
       "746  zVJPv84UY57bAof  168    4982.430872\n",
       "747  zVJPv84UY57bAof  169   15037.751623\n",
       "\n",
       "[748 rows x 3 columns]"
      ]
     },
     "execution_count": 15,
     "metadata": {},
     "output_type": "execute_result"
    }
   ],
   "source": [
    "daily_inv_error_df=daily_inverter_error(merged_outliers[merged_outliers.alarm_DC_conversion_outlier == 0], 'ERROR', ['SOURCE_KEY', 'DAY'])\n",
    "daily_inv_error_df.head()"
   ]
  },
  {
   "cell_type": "code",
   "execution_count": 18,
   "metadata": {},
   "outputs": [
    {
     "data": {
      "text/html": [
       "<div>\n",
       "<style scoped>\n",
       "    .dataframe tbody tr th:only-of-type {\n",
       "        vertical-align: middle;\n",
       "    }\n",
       "\n",
       "    .dataframe tbody tr th {\n",
       "        vertical-align: top;\n",
       "    }\n",
       "\n",
       "    .dataframe thead th {\n",
       "        text-align: right;\n",
       "    }\n",
       "</style>\n",
       "<table border=\"1\" class=\"dataframe\">\n",
       "  <thead>\n",
       "    <tr style=\"text-align: right;\">\n",
       "      <th></th>\n",
       "      <th>SOURCE_KEY</th>\n",
       "      <th>DAY</th>\n",
       "      <th>ERROR</th>\n",
       "      <th>norm_error</th>\n",
       "    </tr>\n",
       "  </thead>\n",
       "  <tbody>\n",
       "    <tr>\n",
       "      <th>0</th>\n",
       "      <td>1BY6WEcLGh8j5v7</td>\n",
       "      <td>136</td>\n",
       "      <td>270139.167191</td>\n",
       "      <td>0.075446</td>\n",
       "    </tr>\n",
       "    <tr>\n",
       "      <th>1</th>\n",
       "      <td>1BY6WEcLGh8j5v7</td>\n",
       "      <td>137</td>\n",
       "      <td>48560.442569</td>\n",
       "      <td>0.013562</td>\n",
       "    </tr>\n",
       "    <tr>\n",
       "      <th>2</th>\n",
       "      <td>1BY6WEcLGh8j5v7</td>\n",
       "      <td>138</td>\n",
       "      <td>269571.209204</td>\n",
       "      <td>0.075288</td>\n",
       "    </tr>\n",
       "    <tr>\n",
       "      <th>3</th>\n",
       "      <td>1BY6WEcLGh8j5v7</td>\n",
       "      <td>139</td>\n",
       "      <td>73352.106008</td>\n",
       "      <td>0.020486</td>\n",
       "    </tr>\n",
       "    <tr>\n",
       "      <th>4</th>\n",
       "      <td>1BY6WEcLGh8j5v7</td>\n",
       "      <td>140</td>\n",
       "      <td>121616.274972</td>\n",
       "      <td>0.033966</td>\n",
       "    </tr>\n",
       "    <tr>\n",
       "      <th>...</th>\n",
       "      <td>...</td>\n",
       "      <td>...</td>\n",
       "      <td>...</td>\n",
       "      <td>...</td>\n",
       "    </tr>\n",
       "    <tr>\n",
       "      <th>743</th>\n",
       "      <td>zVJPv84UY57bAof</td>\n",
       "      <td>165</td>\n",
       "      <td>87223.331208</td>\n",
       "      <td>0.024360</td>\n",
       "    </tr>\n",
       "    <tr>\n",
       "      <th>744</th>\n",
       "      <td>zVJPv84UY57bAof</td>\n",
       "      <td>166</td>\n",
       "      <td>9113.392341</td>\n",
       "      <td>0.002545</td>\n",
       "    </tr>\n",
       "    <tr>\n",
       "      <th>745</th>\n",
       "      <td>zVJPv84UY57bAof</td>\n",
       "      <td>167</td>\n",
       "      <td>25638.520415</td>\n",
       "      <td>0.007161</td>\n",
       "    </tr>\n",
       "    <tr>\n",
       "      <th>746</th>\n",
       "      <td>zVJPv84UY57bAof</td>\n",
       "      <td>168</td>\n",
       "      <td>4982.430872</td>\n",
       "      <td>0.001392</td>\n",
       "    </tr>\n",
       "    <tr>\n",
       "      <th>747</th>\n",
       "      <td>zVJPv84UY57bAof</td>\n",
       "      <td>169</td>\n",
       "      <td>15037.751623</td>\n",
       "      <td>0.004200</td>\n",
       "    </tr>\n",
       "  </tbody>\n",
       "</table>\n",
       "<p>748 rows × 4 columns</p>\n",
       "</div>"
      ],
      "text/plain": [
       "          SOURCE_KEY  DAY          ERROR  norm_error\n",
       "0    1BY6WEcLGh8j5v7  136  270139.167191    0.075446\n",
       "1    1BY6WEcLGh8j5v7  137   48560.442569    0.013562\n",
       "2    1BY6WEcLGh8j5v7  138  269571.209204    0.075288\n",
       "3    1BY6WEcLGh8j5v7  139   73352.106008    0.020486\n",
       "4    1BY6WEcLGh8j5v7  140  121616.274972    0.033966\n",
       "..               ...  ...            ...         ...\n",
       "743  zVJPv84UY57bAof  165   87223.331208    0.024360\n",
       "744  zVJPv84UY57bAof  166    9113.392341    0.002545\n",
       "745  zVJPv84UY57bAof  167   25638.520415    0.007161\n",
       "746  zVJPv84UY57bAof  168    4982.430872    0.001392\n",
       "747  zVJPv84UY57bAof  169   15037.751623    0.004200\n",
       "\n",
       "[748 rows x 4 columns]"
      ]
     },
     "execution_count": 18,
     "metadata": {},
     "output_type": "execute_result"
    }
   ],
   "source": [
    "daily_inv_error_df['norm_error']=daily_inv_error_df['ERROR']/daily_inv_error_df['ERROR'].max()\n",
    "daily_inv_error_df"
   ]
  },
  {
   "cell_type": "code",
   "execution_count": 19,
   "metadata": {},
   "outputs": [],
   "source": [
    "def find_cloudiness_v2(data, col_name, neighbour_number=10, outlier_limit=10):\n",
    "    #Removing outliers from the max curve\n",
    "    clean_data=data.copy()\n",
    "    X=clean_data[['TIME', col_name]]\n",
    "    nbrs = NearestNeighbors(n_neighbors=neighbour_number).fit(X)\n",
    "    distances, indices = nbrs.kneighbors(X)\n",
    "    distance=pd.DataFrame(distances).loc[:, 1:].mean(axis=1)\n",
    "    outlier_condition=distance>distance.mean()+outlier_limit*distance.std()\n",
    "    clean_data.drop(distance[outlier_condition].index, inplace=True)\n",
    "    agg_h_irr_clean = clean_data.groupby(clean_data.TIME).agg({col_name: 'max'})\n",
    "    weather_maxirr = pd.merge(data, agg_h_irr_clean, how='inner', on='TIME', suffixes=('', '_max'))\n",
    "    weather_maxirr['offset_from_max']=(weather_maxirr[col_name+'_max']-weather_maxirr[col_name])**2\n",
    "    C_day_list=weather_maxirr.groupby('DAY').sum()['offset_from_max']\n",
    "    output=pd.DataFrame(C_day_list)\n",
    "    output.columns=['cloudiness']\n",
    "    output.reset_index(inplace=True)\n",
    "    return output\n",
    "def negative_trend_by_days(data, column, cloudiness, output_column_name, window=10, limit=-0.75):\n",
    "    \"\"\"\n",
    "    Given a dataframe of inverter daily efficiencies calculates negative trends over a window of days. \n",
    "    Returns the dataframe with a new column, with 1 where the negative trend is below a certain limit.\n",
    "    \"\"\"\n",
    "    data=data.merge(cloudiness, on='DAY')\n",
    "    data['efficiency_trend']=0\n",
    "    data['weather_trend']=0\n",
    "    data[output_column_name]=0\n",
    "    for inv in data.SOURCE_KEY.unique():\n",
    "        data.loc[data.SOURCE_KEY==inv, 'efficiency_trend']=(data[data.SOURCE_KEY==inv]['DAY']/data[data.SOURCE_KEY==inv]['DAY'].max()).rolling(window=window).corr(data[data.SOURCE_KEY==inv][column]/data[data.SOURCE_KEY==inv][column].max())\n",
    "        #data.loc[data.SOURCE_KEY==inv, 'weather_trend']=(data[data.SOURCE_KEY==inv][column]/data[data.SOURCE_KEY==inv][column].max()).rolling(window=window).corr(data[data.SOURCE_KEY==inv]['cloudiness']/data[data.SOURCE_KEY==inv]['cloudiness'].max())\n",
    "    data.loc[(data['efficiency_trend']>=limit), output_column_name]=1\n",
    "    ####\n",
    "    return data.drop(columns=['efficiency_trend', 'weather_trend', 'cloudiness'])"
   ]
  },
  {
   "cell_type": "code",
   "execution_count": 20,
   "metadata": {},
   "outputs": [],
   "source": [
    "cloudiness_v2=find_cloudiness_v2(weather_data, 'IRRADIATION')\n",
    "daily_inv_error_df=negative_trend_by_days(daily_inv_error_df, 'norm_error', cloudiness_v2, output_column_name='alarm_negative_trend', window=10, limit=0.8)"
   ]
  },
  {
   "cell_type": "code",
   "execution_count": 21,
   "metadata": {},
   "outputs": [
    {
     "name": "stderr",
     "output_type": "stream",
     "text": [
      "No handles with labels found to put in legend.\n"
     ]
    },
    {
     "data": {
      "text/plain": [
       "<matplotlib.legend.Legend at 0x1c3e86e8ac0>"
      ]
     },
     "execution_count": 21,
     "metadata": {},
     "output_type": "execute_result"
    },
    {
     "data": {
      "image/png": "[encoded data removed]",
      "text/plain": [
       "<Figure size 432x288 with 1 Axes>"
      ]
     },
     "metadata": {
      "needs_background": "light"
     },
     "output_type": "display_data"
    }
   ],
   "source": [
    "data=daily_inv_error_df\n",
    "data[data['alarm_negative_trend']==1]\n",
    "for inv in data[data['alarm_negative_trend']==1].SOURCE_KEY.unique():\n",
    "    plt.plot(data[data.SOURCE_KEY==inv]['DAY'], data[data.SOURCE_KEY==inv]['norm_error']/data[data.SOURCE_KEY==inv]['norm_error'].max(), '.', label=inv)\n",
    "plt.xlabel('day')\n",
    "plt.ylabel('DC conversion coefficient')\n",
    "plt.legend()"
   ]
  },
  {
   "cell_type": "code",
   "execution_count": 22,
   "metadata": {},
   "outputs": [],
   "source": [
    "def efficiency_drop_by_day(data, column, outlier_coeff, drop_column_name, jump_column_name, window=20):\n",
    "    \"\"\"\n",
    "    Given a dataframe of inverter daily efficiencies calculates efficiency jumps and falls relative to inverter history.\n",
    "    \"\"\"\n",
    "    if drop_column_name:\n",
    "        data[drop_column_name]=0\n",
    "    if jump_column_name:\n",
    "        data[jump_column_name]=0\n",
    "    data['efficiency_lower_limit']=0\n",
    "    data['efficiency_higher_limit']=0\n",
    "    if window:\n",
    "        for inv in data.SOURCE_KEY.unique():\n",
    "            data.loc[data.SOURCE_KEY==inv, 'efficiency_lower_limit']=data[data.SOURCE_KEY==inv][column].rolling(window=window).median()-outlier_coeff*data[data.SOURCE_KEY==inv][column].rolling(window=window).std()\n",
    "            data.loc[data.SOURCE_KEY==inv, 'efficiency_higher_limit']=data[data.SOURCE_KEY==inv][column].rolling(window=window).median()+outlier_coeff*data[data.SOURCE_KEY==inv][column].rolling(window=window).std()\n",
    "    else:\n",
    "        for inv in data.SOURCE_KEY.unique():\n",
    "            data.loc[data.SOURCE_KEY==inv, 'efficiency_lower_limit']=data[data.SOURCE_KEY==inv][column].median()-outlier_coeff*data[data.SOURCE_KEY==inv][column].std()\n",
    "            data.loc[data.SOURCE_KEY==inv, 'efficiency_higher_limit']=data[data.SOURCE_KEY==inv][column].median()+outlier_coeff*data[data.SOURCE_KEY==inv][column].std()\n",
    "    if drop_column_name:\n",
    "        data.loc[data[column]>data['efficiency_higher_limit'], drop_column_name]=1\n",
    "    if jump_column_name:\n",
    "        data.loc[data[column]<data['efficiency_lower_limit'], jump_column_name]=1\n",
    "    return data.drop(columns=['efficiency_lower_limit', 'efficiency_higher_limit'])"
   ]
  },
  {
   "cell_type": "code",
   "execution_count": 23,
   "metadata": {},
   "outputs": [
    {
     "data": {
      "text/plain": [
       "Text(0, 0.5, 'DC conversion coefficient')"
      ]
     },
     "execution_count": 23,
     "metadata": {},
     "output_type": "execute_result"
    },
    {
     "data": {
      "image/png": "[encoded data removed]",
      "text/plain": [
       "<Figure size 432x288 with 1 Axes>"
      ]
     },
     "metadata": {
      "needs_background": "light"
     },
     "output_type": "display_data"
    }
   ],
   "source": [
    "daily_inv_error_df=efficiency_drop_by_day(daily_inv_error_df, 'norm_error', 2, 'alarm_DC_conversion_fall', 'alarm_DC_conversion_jump', window=7)\n",
    "inverters=daily_inv_error_df[daily_inv_error_df['alarm_DC_conversion_fall']==1]['SOURCE_KEY'].unique()\n",
    "data=daily_inv_error_df[daily_inv_error_df['SOURCE_KEY'].isin(inverters)]\n",
    "for inv in data.SOURCE_KEY.unique():\n",
    "    plt.plot(data[data.SOURCE_KEY==inv]['DAY'], data[data.SOURCE_KEY==inv]['norm_error'], 'b.')\n",
    "plt.plot(data[data.alarm_DC_conversion_fall==1]['DAY'], data[data.alarm_DC_conversion_fall==1]['norm_error'], 'rx')\n",
    "#plt.plot(data[data.alarm_DC_conversion_jump==1]['DAY'], data[data.alarm_DC_conversion_jump==1]['DC_efficiency'], 'gx')\n",
    "plt.xlabel('day')\n",
    "plt.ylabel('DC conversion coefficient')"
   ]
  },
  {
   "cell_type": "code",
   "execution_count": 24,
   "metadata": {},
   "outputs": [],
   "source": [
    "def get_inefficient_inverters_day(data, column, output_column_name, anomaly_limit = 2):\n",
    "    data[output_column_name] = 0\n",
    "    for _,d in data.groupby('DAY'):\n",
    "        col_mean = d[column].mean()\n",
    "        col_std = d[column].std()\n",
    "        data.loc[d[(d[column] > col_mean + anomaly_limit * col_std)].index,output_column_name] = 1\n",
    "    return data\n",
    "def get_inefficient_inverters_window(data, column, output_column_name, window=7):\n",
    "    data[output_column_name] = 0\n",
    "    for inv in data['SOURCE_KEY'].unique():\n",
    "        data.loc[data['SOURCE_KEY']==inv, output_column_name]=data[data['SOURCE_KEY']==inv][column].rolling(window = window).min()\n",
    "    return data"
   ]
  },
  {
   "cell_type": "code",
   "execution_count": 25,
   "metadata": {},
   "outputs": [
    {
     "data": {
      "text/plain": [
       "Text(0, 0.5, 'DC conversion coefficient')"
      ]
     },
     "execution_count": 25,
     "metadata": {},
     "output_type": "execute_result"
    },
    {
     "data": {
      "image/png": "[encoded data removed]",
      "text/plain": [
       "<Figure size 432x288 with 1 Axes>"
      ]
     },
     "metadata": {
      "needs_background": "light"
     },
     "output_type": "display_data"
    }
   ],
   "source": [
    "daily_inv_error_df = get_inefficient_inverters_day(daily_inv_error_df, 'norm_error', 'alarm_inefficient_inverter_day', anomaly_limit=2)\n",
    "data=daily_inv_error_df\n",
    "for inv in data.SOURCE_KEY.unique():\n",
    "    plt.plot(data[data.SOURCE_KEY==inv]['DAY'], data[data.SOURCE_KEY==inv]['norm_error'], 'b.')\n",
    "plt.plot(data[data.alarm_inefficient_inverter_day==1]['DAY'], data[data.alarm_inefficient_inverter_day==1]['norm_error'], 'rx')\n",
    "plt.xlabel('day')\n",
    "plt.ylabel('DC conversion coefficient')"
   ]
  },
  {
   "cell_type": "code",
   "execution_count": 27,
   "metadata": {},
   "outputs": [
    {
     "data": {
      "text/plain": [
       "Text(0, 0.5, 'DC conversion coefficient')"
      ]
     },
     "execution_count": 27,
     "metadata": {},
     "output_type": "execute_result"
    },
    {
     "data": {
      "image/png": "[encoded data removed]",
      "text/plain": [
       "<Figure size 432x288 with 1 Axes>"
      ]
     },
     "metadata": {
      "needs_background": "light"
     },
     "output_type": "display_data"
    }
   ],
   "source": [
    "daily_inv_error_df = get_inefficient_inverters_window(daily_inv_error_df, 'alarm_inefficient_inverter_day', 'alarm_inefficient_inverter_window', window=7)\n",
    "data=daily_inv_error_df\n",
    "for inv in data.SOURCE_KEY.unique():\n",
    "    plt.plot(data[data.SOURCE_KEY==inv]['DAY'], data[data.SOURCE_KEY==inv]['norm_error'], 'b.')\n",
    "plt.plot(data[data.alarm_inefficient_inverter_window==1]['DAY'], data[data.alarm_inefficient_inverter_window==1]['norm_error'], 'rx')\n",
    "plt.xlabel('day')\n",
    "plt.ylabel('DC conversion coefficient')"
   ]
  },
  {
   "cell_type": "code",
   "execution_count": 29,
   "metadata": {},
   "outputs": [],
   "source": [
    "if partial_error:\n",
    "    model_detail=\"partial_error\"\n",
    "else:\n",
    "    model_detail=\"\"\n",
    "merged_outliers.to_csv('../data/processed_data/Plant_'+str(plant)+'_'+model+model_detail+'_alarm_data.csv')\n",
    "daily_inv_error_df.to_csv('../data/processed_data/Plant_'+str(plant)+'_'+model+model_detail+'_efficiency_alarm_data.csv')"
   ]
  },
  {
   "cell_type": "code",
   "execution_count": null,
   "metadata": {},
   "outputs": [],
   "source": []
  }
 ],
 "metadata": {
  "kernelspec": {
   "display_name": "Python 3",
   "language": "python",
   "name": "python3"
  },
  "language_info": {
   "codemirror_mode": {
    "name": "ipython",
    "version": 3
   },
   "file_extension": ".py",
   "mimetype": "text/x-python",
   "name": "python",
   "nbconvert_exporter": "python",
   "pygments_lexer": "ipython3",
   "version": "3.8.5"
  }
 },
 "nbformat": 4,
 "nbformat_minor": 4
}
