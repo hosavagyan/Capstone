{
 "cells": [
  {
   "cell_type": "code",
   "execution_count": 1,
   "metadata": {},
   "outputs": [],
   "source": [
    "import pandas as pd\n",
    "from datetime import datetime, timedelta\n",
    "from matplotlib import pyplot as plt\n",
    "from matplotlib import dates as mpl_dates\n",
    "import seaborn as sns\n",
    "import numpy as np\n",
    "from sklearn.linear_model import LinearRegression\n",
    "import functools\n",
    "import operator"
   ]
  },
  {
   "cell_type": "code",
   "execution_count": 2,
   "metadata": {},
   "outputs": [],
   "source": [
    "weather_data = pd.read_csv('../data/Plant_1_Weather_Sensor_Data.csv')\n",
    "gen_data = pd.read_csv('../data/Plant_1_Generation_Data.csv')"
   ]
  },
  {
   "cell_type": "code",
   "execution_count": 3,
   "metadata": {},
   "outputs": [],
   "source": [
    "weather_data['DATE_TIME']= pd.to_datetime(weather_data['DATE_TIME'])\n",
    "gen_data['DATE_TIME']= pd.to_datetime(gen_data['DATE_TIME'])"
   ]
  },
  {
   "cell_type": "code",
   "execution_count": 4,
   "metadata": {},
   "outputs": [
    {
     "data": {
      "text/html": [
       "<div>\n",
       "<style scoped>\n",
       "    .dataframe tbody tr th:only-of-type {\n",
       "        vertical-align: middle;\n",
       "    }\n",
       "\n",
       "    .dataframe tbody tr th {\n",
       "        vertical-align: top;\n",
       "    }\n",
       "\n",
       "    .dataframe thead th {\n",
       "        text-align: right;\n",
       "    }\n",
       "</style>\n",
       "<table border=\"1\" class=\"dataframe\">\n",
       "  <thead>\n",
       "    <tr style=\"text-align: right;\">\n",
       "      <th></th>\n",
       "      <th>DATE_TIME</th>\n",
       "      <th>PLANT_ID</th>\n",
       "      <th>SOURCE_KEY</th>\n",
       "      <th>AMBIENT_TEMPERATURE</th>\n",
       "      <th>MODULE_TEMPERATURE</th>\n",
       "      <th>IRRADIATION</th>\n",
       "      <th>DAY</th>\n",
       "      <th>TIME</th>\n",
       "      <th>Time</th>\n",
       "      <th>HOUR</th>\n",
       "    </tr>\n",
       "  </thead>\n",
       "  <tbody>\n",
       "    <tr>\n",
       "      <th>0</th>\n",
       "      <td>2020-05-15 00:00:00</td>\n",
       "      <td>4135001</td>\n",
       "      <td>HmiyD2TTLFNqkNe</td>\n",
       "      <td>25.184316</td>\n",
       "      <td>22.857507</td>\n",
       "      <td>0.0</td>\n",
       "      <td>136</td>\n",
       "      <td>0</td>\n",
       "      <td>00:00:00</td>\n",
       "      <td>0</td>\n",
       "    </tr>\n",
       "    <tr>\n",
       "      <th>1</th>\n",
       "      <td>2020-05-15 00:15:00</td>\n",
       "      <td>4135001</td>\n",
       "      <td>HmiyD2TTLFNqkNe</td>\n",
       "      <td>25.084589</td>\n",
       "      <td>22.761668</td>\n",
       "      <td>0.0</td>\n",
       "      <td>136</td>\n",
       "      <td>15</td>\n",
       "      <td>00:15:00</td>\n",
       "      <td>0</td>\n",
       "    </tr>\n",
       "    <tr>\n",
       "      <th>2</th>\n",
       "      <td>2020-05-15 00:30:00</td>\n",
       "      <td>4135001</td>\n",
       "      <td>HmiyD2TTLFNqkNe</td>\n",
       "      <td>24.935753</td>\n",
       "      <td>22.592306</td>\n",
       "      <td>0.0</td>\n",
       "      <td>136</td>\n",
       "      <td>30</td>\n",
       "      <td>00:30:00</td>\n",
       "      <td>0</td>\n",
       "    </tr>\n",
       "    <tr>\n",
       "      <th>3</th>\n",
       "      <td>2020-05-15 00:45:00</td>\n",
       "      <td>4135001</td>\n",
       "      <td>HmiyD2TTLFNqkNe</td>\n",
       "      <td>24.846130</td>\n",
       "      <td>22.360852</td>\n",
       "      <td>0.0</td>\n",
       "      <td>136</td>\n",
       "      <td>45</td>\n",
       "      <td>00:45:00</td>\n",
       "      <td>0</td>\n",
       "    </tr>\n",
       "    <tr>\n",
       "      <th>4</th>\n",
       "      <td>2020-05-15 01:00:00</td>\n",
       "      <td>4135001</td>\n",
       "      <td>HmiyD2TTLFNqkNe</td>\n",
       "      <td>24.621525</td>\n",
       "      <td>22.165423</td>\n",
       "      <td>0.0</td>\n",
       "      <td>136</td>\n",
       "      <td>60</td>\n",
       "      <td>01:00:00</td>\n",
       "      <td>1</td>\n",
       "    </tr>\n",
       "  </tbody>\n",
       "</table>\n",
       "</div>"
      ],
      "text/plain": [
       "            DATE_TIME  PLANT_ID       SOURCE_KEY  AMBIENT_TEMPERATURE  \\\n",
       "0 2020-05-15 00:00:00   4135001  HmiyD2TTLFNqkNe            25.184316   \n",
       "1 2020-05-15 00:15:00   4135001  HmiyD2TTLFNqkNe            25.084589   \n",
       "2 2020-05-15 00:30:00   4135001  HmiyD2TTLFNqkNe            24.935753   \n",
       "3 2020-05-15 00:45:00   4135001  HmiyD2TTLFNqkNe            24.846130   \n",
       "4 2020-05-15 01:00:00   4135001  HmiyD2TTLFNqkNe            24.621525   \n",
       "\n",
       "   MODULE_TEMPERATURE  IRRADIATION  DAY  TIME      Time  HOUR  \n",
       "0           22.857507          0.0  136     0  00:00:00     0  \n",
       "1           22.761668          0.0  136    15  00:15:00     0  \n",
       "2           22.592306          0.0  136    30  00:30:00     0  \n",
       "3           22.360852          0.0  136    45  00:45:00     0  \n",
       "4           22.165423          0.0  136    60  01:00:00     1  "
      ]
     },
     "execution_count": 4,
     "metadata": {},
     "output_type": "execute_result"
    }
   ],
   "source": [
    "weather_data['DAY'] = pd.DatetimeIndex(weather_data['DATE_TIME']).dayofyear\n",
    "weather_data['TIME'] = weather_data.DATE_TIME.dt.hour * 60 + weather_data.DATE_TIME.dt.minute\n",
    "weather_data['Time'] = weather_data.DATE_TIME.dt.time\n",
    "weather_data['HOUR'] = weather_data.DATE_TIME.dt.hour\n",
    "weather_data.head()"
   ]
  },
  {
   "cell_type": "code",
   "execution_count": 5,
   "metadata": {},
   "outputs": [
    {
     "data": {
      "text/html": [
       "<div>\n",
       "<style scoped>\n",
       "    .dataframe tbody tr th:only-of-type {\n",
       "        vertical-align: middle;\n",
       "    }\n",
       "\n",
       "    .dataframe tbody tr th {\n",
       "        vertical-align: top;\n",
       "    }\n",
       "\n",
       "    .dataframe thead th {\n",
       "        text-align: right;\n",
       "    }\n",
       "</style>\n",
       "<table border=\"1\" class=\"dataframe\">\n",
       "  <thead>\n",
       "    <tr style=\"text-align: right;\">\n",
       "      <th></th>\n",
       "      <th>DATE_TIME</th>\n",
       "      <th>PLANT_ID</th>\n",
       "      <th>SOURCE_KEY</th>\n",
       "      <th>DC_POWER</th>\n",
       "      <th>AC_POWER</th>\n",
       "      <th>DAILY_YIELD</th>\n",
       "      <th>TOTAL_YIELD</th>\n",
       "      <th>PLANT_ID_y</th>\n",
       "      <th>SOURCE_KEY_y</th>\n",
       "      <th>AMBIENT_TEMPERATURE</th>\n",
       "      <th>MODULE_TEMPERATURE</th>\n",
       "      <th>IRRADIATION</th>\n",
       "      <th>DAY</th>\n",
       "      <th>TIME</th>\n",
       "      <th>Time</th>\n",
       "      <th>HOUR</th>\n",
       "    </tr>\n",
       "  </thead>\n",
       "  <tbody>\n",
       "    <tr>\n",
       "      <th>0</th>\n",
       "      <td>2020-05-15 00:00:00</td>\n",
       "      <td>4135001</td>\n",
       "      <td>1BY6WEcLGh8j5v7</td>\n",
       "      <td>0.0</td>\n",
       "      <td>0.0</td>\n",
       "      <td>0.000</td>\n",
       "      <td>6259559.0</td>\n",
       "      <td>4135001</td>\n",
       "      <td>HmiyD2TTLFNqkNe</td>\n",
       "      <td>25.184316</td>\n",
       "      <td>22.857507</td>\n",
       "      <td>0.0</td>\n",
       "      <td>136</td>\n",
       "      <td>0</td>\n",
       "      <td>00:00:00</td>\n",
       "      <td>0</td>\n",
       "    </tr>\n",
       "    <tr>\n",
       "      <th>1</th>\n",
       "      <td>2020-05-15 00:00:00</td>\n",
       "      <td>4135001</td>\n",
       "      <td>1IF53ai7Xc0U56Y</td>\n",
       "      <td>0.0</td>\n",
       "      <td>0.0</td>\n",
       "      <td>0.000</td>\n",
       "      <td>6183645.0</td>\n",
       "      <td>4135001</td>\n",
       "      <td>HmiyD2TTLFNqkNe</td>\n",
       "      <td>25.184316</td>\n",
       "      <td>22.857507</td>\n",
       "      <td>0.0</td>\n",
       "      <td>136</td>\n",
       "      <td>0</td>\n",
       "      <td>00:00:00</td>\n",
       "      <td>0</td>\n",
       "    </tr>\n",
       "    <tr>\n",
       "      <th>2</th>\n",
       "      <td>2020-05-15 00:00:00</td>\n",
       "      <td>4135001</td>\n",
       "      <td>3PZuoBAID5Wc2HD</td>\n",
       "      <td>0.0</td>\n",
       "      <td>0.0</td>\n",
       "      <td>0.000</td>\n",
       "      <td>6987759.0</td>\n",
       "      <td>4135001</td>\n",
       "      <td>HmiyD2TTLFNqkNe</td>\n",
       "      <td>25.184316</td>\n",
       "      <td>22.857507</td>\n",
       "      <td>0.0</td>\n",
       "      <td>136</td>\n",
       "      <td>0</td>\n",
       "      <td>00:00:00</td>\n",
       "      <td>0</td>\n",
       "    </tr>\n",
       "    <tr>\n",
       "      <th>3</th>\n",
       "      <td>2020-05-15 00:00:00</td>\n",
       "      <td>4135001</td>\n",
       "      <td>7JYdWkrLSPkdwr4</td>\n",
       "      <td>0.0</td>\n",
       "      <td>0.0</td>\n",
       "      <td>0.000</td>\n",
       "      <td>7602960.0</td>\n",
       "      <td>4135001</td>\n",
       "      <td>HmiyD2TTLFNqkNe</td>\n",
       "      <td>25.184316</td>\n",
       "      <td>22.857507</td>\n",
       "      <td>0.0</td>\n",
       "      <td>136</td>\n",
       "      <td>0</td>\n",
       "      <td>00:00:00</td>\n",
       "      <td>0</td>\n",
       "    </tr>\n",
       "    <tr>\n",
       "      <th>4</th>\n",
       "      <td>2020-05-15 00:00:00</td>\n",
       "      <td>4135001</td>\n",
       "      <td>McdE0feGgRqW7Ca</td>\n",
       "      <td>0.0</td>\n",
       "      <td>0.0</td>\n",
       "      <td>0.000</td>\n",
       "      <td>7158964.0</td>\n",
       "      <td>4135001</td>\n",
       "      <td>HmiyD2TTLFNqkNe</td>\n",
       "      <td>25.184316</td>\n",
       "      <td>22.857507</td>\n",
       "      <td>0.0</td>\n",
       "      <td>136</td>\n",
       "      <td>0</td>\n",
       "      <td>00:00:00</td>\n",
       "      <td>0</td>\n",
       "    </tr>\n",
       "    <tr>\n",
       "      <th>...</th>\n",
       "      <td>...</td>\n",
       "      <td>...</td>\n",
       "      <td>...</td>\n",
       "      <td>...</td>\n",
       "      <td>...</td>\n",
       "      <td>...</td>\n",
       "      <td>...</td>\n",
       "      <td>...</td>\n",
       "      <td>...</td>\n",
       "      <td>...</td>\n",
       "      <td>...</td>\n",
       "      <td>...</td>\n",
       "      <td>...</td>\n",
       "      <td>...</td>\n",
       "      <td>...</td>\n",
       "      <td>...</td>\n",
       "    </tr>\n",
       "    <tr>\n",
       "      <th>68769</th>\n",
       "      <td>2020-06-17 23:45:00</td>\n",
       "      <td>4135001</td>\n",
       "      <td>uHbuxQJl8lW7ozc</td>\n",
       "      <td>0.0</td>\n",
       "      <td>0.0</td>\n",
       "      <td>5967.000</td>\n",
       "      <td>7287002.0</td>\n",
       "      <td>4135001</td>\n",
       "      <td>HmiyD2TTLFNqkNe</td>\n",
       "      <td>21.909288</td>\n",
       "      <td>20.427972</td>\n",
       "      <td>0.0</td>\n",
       "      <td>169</td>\n",
       "      <td>1425</td>\n",
       "      <td>23:45:00</td>\n",
       "      <td>23</td>\n",
       "    </tr>\n",
       "    <tr>\n",
       "      <th>68770</th>\n",
       "      <td>2020-06-17 23:45:00</td>\n",
       "      <td>4135001</td>\n",
       "      <td>wCURE6d3bPkepu2</td>\n",
       "      <td>0.0</td>\n",
       "      <td>0.0</td>\n",
       "      <td>5147.625</td>\n",
       "      <td>7028601.0</td>\n",
       "      <td>4135001</td>\n",
       "      <td>HmiyD2TTLFNqkNe</td>\n",
       "      <td>21.909288</td>\n",
       "      <td>20.427972</td>\n",
       "      <td>0.0</td>\n",
       "      <td>169</td>\n",
       "      <td>1425</td>\n",
       "      <td>23:45:00</td>\n",
       "      <td>23</td>\n",
       "    </tr>\n",
       "    <tr>\n",
       "      <th>68771</th>\n",
       "      <td>2020-06-17 23:45:00</td>\n",
       "      <td>4135001</td>\n",
       "      <td>z9Y9gH1T5YWrNuG</td>\n",
       "      <td>0.0</td>\n",
       "      <td>0.0</td>\n",
       "      <td>5819.000</td>\n",
       "      <td>7251204.0</td>\n",
       "      <td>4135001</td>\n",
       "      <td>HmiyD2TTLFNqkNe</td>\n",
       "      <td>21.909288</td>\n",
       "      <td>20.427972</td>\n",
       "      <td>0.0</td>\n",
       "      <td>169</td>\n",
       "      <td>1425</td>\n",
       "      <td>23:45:00</td>\n",
       "      <td>23</td>\n",
       "    </tr>\n",
       "    <tr>\n",
       "      <th>68772</th>\n",
       "      <td>2020-06-17 23:45:00</td>\n",
       "      <td>4135001</td>\n",
       "      <td>zBIq5rxdHJRwDNY</td>\n",
       "      <td>0.0</td>\n",
       "      <td>0.0</td>\n",
       "      <td>5817.000</td>\n",
       "      <td>6583369.0</td>\n",
       "      <td>4135001</td>\n",
       "      <td>HmiyD2TTLFNqkNe</td>\n",
       "      <td>21.909288</td>\n",
       "      <td>20.427972</td>\n",
       "      <td>0.0</td>\n",
       "      <td>169</td>\n",
       "      <td>1425</td>\n",
       "      <td>23:45:00</td>\n",
       "      <td>23</td>\n",
       "    </tr>\n",
       "    <tr>\n",
       "      <th>68773</th>\n",
       "      <td>2020-06-17 23:45:00</td>\n",
       "      <td>4135001</td>\n",
       "      <td>zVJPv84UY57bAof</td>\n",
       "      <td>0.0</td>\n",
       "      <td>0.0</td>\n",
       "      <td>5910.000</td>\n",
       "      <td>7363272.0</td>\n",
       "      <td>4135001</td>\n",
       "      <td>HmiyD2TTLFNqkNe</td>\n",
       "      <td>21.909288</td>\n",
       "      <td>20.427972</td>\n",
       "      <td>0.0</td>\n",
       "      <td>169</td>\n",
       "      <td>1425</td>\n",
       "      <td>23:45:00</td>\n",
       "      <td>23</td>\n",
       "    </tr>\n",
       "  </tbody>\n",
       "</table>\n",
       "<p>68774 rows × 16 columns</p>\n",
       "</div>"
      ],
      "text/plain": [
       "                DATE_TIME  PLANT_ID       SOURCE_KEY  DC_POWER  AC_POWER  \\\n",
       "0     2020-05-15 00:00:00   4135001  1BY6WEcLGh8j5v7       0.0       0.0   \n",
       "1     2020-05-15 00:00:00   4135001  1IF53ai7Xc0U56Y       0.0       0.0   \n",
       "2     2020-05-15 00:00:00   4135001  3PZuoBAID5Wc2HD       0.0       0.0   \n",
       "3     2020-05-15 00:00:00   4135001  7JYdWkrLSPkdwr4       0.0       0.0   \n",
       "4     2020-05-15 00:00:00   4135001  McdE0feGgRqW7Ca       0.0       0.0   \n",
       "...                   ...       ...              ...       ...       ...   \n",
       "68769 2020-06-17 23:45:00   4135001  uHbuxQJl8lW7ozc       0.0       0.0   \n",
       "68770 2020-06-17 23:45:00   4135001  wCURE6d3bPkepu2       0.0       0.0   \n",
       "68771 2020-06-17 23:45:00   4135001  z9Y9gH1T5YWrNuG       0.0       0.0   \n",
       "68772 2020-06-17 23:45:00   4135001  zBIq5rxdHJRwDNY       0.0       0.0   \n",
       "68773 2020-06-17 23:45:00   4135001  zVJPv84UY57bAof       0.0       0.0   \n",
       "\n",
       "       DAILY_YIELD  TOTAL_YIELD  PLANT_ID_y     SOURCE_KEY_y  \\\n",
       "0            0.000    6259559.0     4135001  HmiyD2TTLFNqkNe   \n",
       "1            0.000    6183645.0     4135001  HmiyD2TTLFNqkNe   \n",
       "2            0.000    6987759.0     4135001  HmiyD2TTLFNqkNe   \n",
       "3            0.000    7602960.0     4135001  HmiyD2TTLFNqkNe   \n",
       "4            0.000    7158964.0     4135001  HmiyD2TTLFNqkNe   \n",
       "...            ...          ...         ...              ...   \n",
       "68769     5967.000    7287002.0     4135001  HmiyD2TTLFNqkNe   \n",
       "68770     5147.625    7028601.0     4135001  HmiyD2TTLFNqkNe   \n",
       "68771     5819.000    7251204.0     4135001  HmiyD2TTLFNqkNe   \n",
       "68772     5817.000    6583369.0     4135001  HmiyD2TTLFNqkNe   \n",
       "68773     5910.000    7363272.0     4135001  HmiyD2TTLFNqkNe   \n",
       "\n",
       "       AMBIENT_TEMPERATURE  MODULE_TEMPERATURE  IRRADIATION  DAY  TIME  \\\n",
       "0                25.184316           22.857507          0.0  136     0   \n",
       "1                25.184316           22.857507          0.0  136     0   \n",
       "2                25.184316           22.857507          0.0  136     0   \n",
       "3                25.184316           22.857507          0.0  136     0   \n",
       "4                25.184316           22.857507          0.0  136     0   \n",
       "...                    ...                 ...          ...  ...   ...   \n",
       "68769            21.909288           20.427972          0.0  169  1425   \n",
       "68770            21.909288           20.427972          0.0  169  1425   \n",
       "68771            21.909288           20.427972          0.0  169  1425   \n",
       "68772            21.909288           20.427972          0.0  169  1425   \n",
       "68773            21.909288           20.427972          0.0  169  1425   \n",
       "\n",
       "           Time  HOUR  \n",
       "0      00:00:00     0  \n",
       "1      00:00:00     0  \n",
       "2      00:00:00     0  \n",
       "3      00:00:00     0  \n",
       "4      00:00:00     0  \n",
       "...         ...   ...  \n",
       "68769  23:45:00    23  \n",
       "68770  23:45:00    23  \n",
       "68771  23:45:00    23  \n",
       "68772  23:45:00    23  \n",
       "68773  23:45:00    23  \n",
       "\n",
       "[68774 rows x 16 columns]"
      ]
     },
     "execution_count": 5,
     "metadata": {},
     "output_type": "execute_result"
    }
   ],
   "source": [
    "merged_df = pd.merge(gen_data, weather_data, how='inner', on=['DATE_TIME'], suffixes=('', '_y'))\n",
    "merged_df"
   ]
  },
  {
   "cell_type": "code",
   "execution_count": 6,
   "metadata": {},
   "outputs": [],
   "source": [
    "#Removing the outliers to have a better fit of the data\n",
    "clean_data=merged_df.copy()\n",
    "for i, j in  clean_data.groupby(clean_data.HOUR):\n",
    "    outlier_condition1=j['DC_POWER']>=(j['DC_POWER'].mean()+ 3*j['DC_POWER'].std())\n",
    "    outlier_condition2=j['DC_POWER']<(j['DC_POWER'].mean()- 3*j['DC_POWER'].std())\n",
    "    clean_data.drop(clean_data.loc[(clean_data['DAY'].isin(j.loc[outlier_condition1|outlier_condition2].DAY))&(clean_data['HOUR']==i)].index, inplace=True)"
   ]
  },
  {
   "cell_type": "code",
   "execution_count": 7,
   "metadata": {},
   "outputs": [],
   "source": [
    "def Irr_dc_linear_fit(data):\n",
    "    coeff=[]\n",
    "    days=[]\n",
    "    inverters=[]\n",
    "    for i in data.SOURCE_KEY.unique():\n",
    "        inv_data=data[data.SOURCE_KEY==i]\n",
    "        for a, day in inv_data.groupby(inv_data.DAY):\n",
    "            inverters.append(i)\n",
    "            INV=pd.DataFrame(data=np.array(inverters), columns=['SOURCE_KEY'])\n",
    "            days.append(a)\n",
    "            DAYS=pd.DataFrame(data=np.array(days), columns=['DAY'])\n",
    "            X = day['IRRADIATION'].values.reshape(-1,1)\n",
    "            y = day['DC_POWER'].values.reshape(-1,1)\n",
    "            regressor = LinearRegression(fit_intercept=False)\n",
    "            regressor.fit(X, y)\n",
    "            m=regressor.coef_\n",
    "            result = []\n",
    "            [result.extend(el) for el in m] \n",
    "            E=[]\n",
    "            for el in result:\n",
    "                E.append(el)\n",
    "            coeff.append(E)\n",
    "            coefficients = pd.DataFrame(data=np.array(coeff), columns=['Conversion_coeff'])\n",
    "            conv = [INV, DAYS, coefficients]\n",
    "            conversion_data = pd.concat(conv, axis=1)\n",
    "    return(conversion_data)"
   ]
  },
  {
   "cell_type": "code",
   "execution_count": 40,
   "metadata": {},
   "outputs": [],
   "source": [
    "def find_cloudiness(data, col_name):\n",
    "    data['DATE_TIME']= pd.to_datetime(data['DATE_TIME'])\n",
    "    data['DAY'] = pd.DatetimeIndex(data['DATE_TIME']).dayofyear\n",
    "    data['TIME'] = data.DATE_TIME.dt.time\n",
    "    data['HOUR'] = data.DATE_TIME.dt.hour\n",
    "    agg_h_irr = data.groupby(data.TIME).agg({col_name: 'max'})\n",
    "    #Removing outliers \n",
    "    clean_data=data.copy()\n",
    "    for i, j in  clean_data.groupby(clean_data.HOUR):\n",
    "        outlier_condition1=(j[col_name]!=0)&(j[col_name]>=(j[col_name].mean()+ 2*j[col_name].std()))\n",
    "        outlier_condition2=(j[col_name]!=0)&(j[col_name]<(j[col_name].mean()- 2*j[col_name].std()))\n",
    "        clean_data.drop(clean_data.loc[(clean_data['DAY'].isin(j.loc[outlier_condition1|outlier_condition2].DAY))&\n",
    "                                       (clean_data['HOUR']==i)].index, inplace=True)\n",
    "    agg_h_irr_clean = clean_data.groupby(clean_data.TIME).agg({col_name: 'max'})\n",
    "    weather_maxirr = pd.merge(data, agg_h_irr_clean, how='inner', on='TIME', suffixes=('', '_max'))\n",
    "    weather_maxirr['offset_from_max']=(weather_maxirr[col_name+'_max']-weather_maxirr[col_name])**2\n",
    "    C_day_list=weather_maxirr.groupby('DAY').sum()['offset_from_max']\n",
    "    weather_maxirr = pd.merge(weather_maxirr, C_day_list, how='inner', on='DAY')\n",
    "    weather_maxirr_new = weather_maxirr.rename(columns={'offset_from_max_y': 'C_day', \n",
    "                                                        'offset_from_max_x': 'offset_from_max'})\n",
    "    ###sorry ehre returning just day-value array, because it is easier for the plot. we'll figure out eventually what we need to return\n",
    "    return(C_day_list)"
   ]
  },
  {
   "cell_type": "code",
   "execution_count": 66,
   "metadata": {
    "scrolled": true
   },
   "outputs": [
    {
     "data": {
      "text/html": [
       "<div>\n",
       "<style scoped>\n",
       "    .dataframe tbody tr th:only-of-type {\n",
       "        vertical-align: middle;\n",
       "    }\n",
       "\n",
       "    .dataframe tbody tr th {\n",
       "        vertical-align: top;\n",
       "    }\n",
       "\n",
       "    .dataframe thead th {\n",
       "        text-align: right;\n",
       "    }\n",
       "</style>\n",
       "<table border=\"1\" class=\"dataframe\">\n",
       "  <thead>\n",
       "    <tr style=\"text-align: right;\">\n",
       "      <th></th>\n",
       "      <th>SOURCE_KEY</th>\n",
       "      <th>DAY</th>\n",
       "      <th>Conversion_coeff</th>\n",
       "    </tr>\n",
       "  </thead>\n",
       "  <tbody>\n",
       "    <tr>\n",
       "      <th>0</th>\n",
       "      <td>1BY6WEcLGh8j5v7</td>\n",
       "      <td>136</td>\n",
       "      <td>12354.989316</td>\n",
       "    </tr>\n",
       "    <tr>\n",
       "      <th>1</th>\n",
       "      <td>1BY6WEcLGh8j5v7</td>\n",
       "      <td>137</td>\n",
       "      <td>13795.526206</td>\n",
       "    </tr>\n",
       "    <tr>\n",
       "      <th>2</th>\n",
       "      <td>1BY6WEcLGh8j5v7</td>\n",
       "      <td>138</td>\n",
       "      <td>12442.529876</td>\n",
       "    </tr>\n",
       "    <tr>\n",
       "      <th>3</th>\n",
       "      <td>1BY6WEcLGh8j5v7</td>\n",
       "      <td>139</td>\n",
       "      <td>13206.622964</td>\n",
       "    </tr>\n",
       "    <tr>\n",
       "      <th>4</th>\n",
       "      <td>1BY6WEcLGh8j5v7</td>\n",
       "      <td>140</td>\n",
       "      <td>12853.514593</td>\n",
       "    </tr>\n",
       "  </tbody>\n",
       "</table>\n",
       "</div>"
      ],
      "text/plain": [
       "        SOURCE_KEY  DAY  Conversion_coeff\n",
       "0  1BY6WEcLGh8j5v7  136      12354.989316\n",
       "1  1BY6WEcLGh8j5v7  137      13795.526206\n",
       "2  1BY6WEcLGh8j5v7  138      12442.529876\n",
       "3  1BY6WEcLGh8j5v7  139      13206.622964\n",
       "4  1BY6WEcLGh8j5v7  140      12853.514593"
      ]
     },
     "execution_count": 66,
     "metadata": {},
     "output_type": "execute_result"
    }
   ],
   "source": [
    "conversion_data=Irr_dc_linear_fit(clean_data)\n",
    "conversion_data.head()"
   ]
  },
  {
   "cell_type": "code",
   "execution_count": 94,
   "metadata": {},
   "outputs": [],
   "source": [
    "C_day=find_cloudiness(weather_data, 'IRRADIATION')\n",
    "#C_day=pd.DataFrame(C_day)\n",
    "#C_day.columns=['C_day']\n",
    "#C_day['DAY']=C_day.index"
   ]
  },
  {
   "cell_type": "code",
   "execution_count": 90,
   "metadata": {},
   "outputs": [],
   "source": [
    "clean_data = pd.merge(clean_data, conversion_data, how='left', on=['DAY', 'SOURCE_KEY'])"
   ]
  },
  {
   "cell_type": "code",
   "execution_count": 91,
   "metadata": {
    "scrolled": true
   },
   "outputs": [
    {
     "data": {
      "text/html": [
       "<div>\n",
       "<style scoped>\n",
       "    .dataframe tbody tr th:only-of-type {\n",
       "        vertical-align: middle;\n",
       "    }\n",
       "\n",
       "    .dataframe tbody tr th {\n",
       "        vertical-align: top;\n",
       "    }\n",
       "\n",
       "    .dataframe thead th {\n",
       "        text-align: right;\n",
       "    }\n",
       "</style>\n",
       "<table border=\"1\" class=\"dataframe\">\n",
       "  <thead>\n",
       "    <tr style=\"text-align: right;\">\n",
       "      <th></th>\n",
       "      <th>SOURCE_KEY</th>\n",
       "      <th>DAY</th>\n",
       "      <th>Conversion_coeff</th>\n",
       "    </tr>\n",
       "  </thead>\n",
       "  <tbody>\n",
       "    <tr>\n",
       "      <th>0</th>\n",
       "      <td>1BY6WEcLGh8j5v7</td>\n",
       "      <td>136</td>\n",
       "      <td>12924.970538</td>\n",
       "    </tr>\n",
       "    <tr>\n",
       "      <th>1</th>\n",
       "      <td>1BY6WEcLGh8j5v7</td>\n",
       "      <td>137</td>\n",
       "      <td>13815.536204</td>\n",
       "    </tr>\n",
       "    <tr>\n",
       "      <th>2</th>\n",
       "      <td>1BY6WEcLGh8j5v7</td>\n",
       "      <td>138</td>\n",
       "      <td>12746.229788</td>\n",
       "    </tr>\n",
       "    <tr>\n",
       "      <th>3</th>\n",
       "      <td>1BY6WEcLGh8j5v7</td>\n",
       "      <td>139</td>\n",
       "      <td>13327.496551</td>\n",
       "    </tr>\n",
       "    <tr>\n",
       "      <th>4</th>\n",
       "      <td>1BY6WEcLGh8j5v7</td>\n",
       "      <td>140</td>\n",
       "      <td>12703.448285</td>\n",
       "    </tr>\n",
       "  </tbody>\n",
       "</table>\n",
       "</div>"
      ],
      "text/plain": [
       "        SOURCE_KEY  DAY  Conversion_coeff\n",
       "0  1BY6WEcLGh8j5v7  136      12924.970538\n",
       "1  1BY6WEcLGh8j5v7  137      13815.536204\n",
       "2  1BY6WEcLGh8j5v7  138      12746.229788\n",
       "3  1BY6WEcLGh8j5v7  139      13327.496551\n",
       "4  1BY6WEcLGh8j5v7  140      12703.448285"
      ]
     },
     "execution_count": 91,
     "metadata": {},
     "output_type": "execute_result"
    }
   ],
   "source": [
    "conversion_data_lowT=Irr_dc_linear_fit(clean_data[clean_data['MODULE_TEMPERATURE']<=50])\n",
    "conversion_data_lowT.head()"
   ]
  },
  {
   "cell_type": "markdown",
   "metadata": {},
   "source": [
    "1. derive the inverters if there is any negative trend present\n",
    "2. derive strong outliers in time, like above"
   ]
  },
  {
   "cell_type": "raw",
   "metadata": {},
   "source": [
    "def negative_trend(data):\n",
    "    data['neg_trend']=0\n",
    "    for inv in data.SOURCE_KEY.unique():\n",
    "        if data[data.SOURCE_KEY==inv][['DAY', 'Conversion_coeff']].corr()['Conversion_coeff']['DAY']<=0:\n",
    "            data.neg_trend[(data.SOURCE_KEY==inv)& (data.DAY==169)]=1\n",
    "    return(data)"
   ]
  },
  {
   "cell_type": "markdown",
   "metadata": {},
   "source": [
    "#### AK changed the calculation of the trend to follow a rolling logic"
   ]
  },
  {
   "cell_type": "code",
   "execution_count": 153,
   "metadata": {},
   "outputs": [],
   "source": [
    "def negative_trend(data, cloudiness, window=10, limit=-0.75):\n",
    "    \"\"\"\n",
    "    Given a dataframe of inverter daily efficiencies calculates negative trends over a window of days. \n",
    "    Returns the dataframe with a new column, with 1 where the negative trend is below a certain limit.\n",
    "    \"\"\"\n",
    "    data=data.merge(cloudiness, on='DAY')\n",
    "    data['efficiency_trend']=0\n",
    "    data['weather_trend']=0\n",
    "    data['alarm_negative_trend']=0\n",
    "    for inv in data.SOURCE_KEY.unique():\n",
    "        data.loc[data.SOURCE_KEY==inv, 'efficiency_trend']=(data[data.SOURCE_KEY==inv]['DAY']/data[data.SOURCE_KEY==inv]['DAY'].max()).rolling(window=window).corr(data[data.SOURCE_KEY==inv]['Conversion_coeff']/data[data.SOURCE_KEY==inv]['Conversion_coeff'].max())\n",
    "        data.loc[data.SOURCE_KEY==inv, 'weather_trend']=(data[data.SOURCE_KEY==inv]['Conversion_coeff']/data[data.SOURCE_KEY==inv]['Conversion_coeff'].max()).rolling(window=window).corr(data[data.SOURCE_KEY==inv]['offset_from_max']/data[data.SOURCE_KEY==inv]['offset_from_max'].max())\n",
    "    data.loc[(data['efficiency_trend']<=limit)&(data['weather_trend']<=0), 'alarm_negative_trend']=1\n",
    "    ####\n",
    "    return data.drop(columns=['efficiency_trend', 'weather_trend'])"
   ]
  },
  {
   "cell_type": "code",
   "execution_count": 170,
   "metadata": {},
   "outputs": [],
   "source": [
    "efficiency_alarms=negative_trend(conversion_data_lowT, C_day, window=10, limit=-0.6)"
   ]
  },
  {
   "cell_type": "code",
   "execution_count": 171,
   "metadata": {},
   "outputs": [
    {
     "data": {
      "text/html": [
       "<div>\n",
       "<style scoped>\n",
       "    .dataframe tbody tr th:only-of-type {\n",
       "        vertical-align: middle;\n",
       "    }\n",
       "\n",
       "    .dataframe tbody tr th {\n",
       "        vertical-align: top;\n",
       "    }\n",
       "\n",
       "    .dataframe thead th {\n",
       "        text-align: right;\n",
       "    }\n",
       "</style>\n",
       "<table border=\"1\" class=\"dataframe\">\n",
       "  <thead>\n",
       "    <tr style=\"text-align: right;\">\n",
       "      <th></th>\n",
       "      <th>SOURCE_KEY</th>\n",
       "      <th>DAY</th>\n",
       "      <th>Conversion_coeff</th>\n",
       "      <th>offset_from_max</th>\n",
       "      <th>alarm_negative_trend</th>\n",
       "    </tr>\n",
       "  </thead>\n",
       "  <tbody>\n",
       "    <tr>\n",
       "      <th>0</th>\n",
       "      <td>1BY6WEcLGh8j5v7</td>\n",
       "      <td>136</td>\n",
       "      <td>12924.970538</td>\n",
       "      <td>5.044330</td>\n",
       "      <td>0</td>\n",
       "    </tr>\n",
       "    <tr>\n",
       "      <th>1</th>\n",
       "      <td>1IF53ai7Xc0U56Y</td>\n",
       "      <td>136</td>\n",
       "      <td>13583.565077</td>\n",
       "      <td>5.044330</td>\n",
       "      <td>0</td>\n",
       "    </tr>\n",
       "    <tr>\n",
       "      <th>2</th>\n",
       "      <td>3PZuoBAID5Wc2HD</td>\n",
       "      <td>136</td>\n",
       "      <td>13435.806642</td>\n",
       "      <td>5.044330</td>\n",
       "      <td>0</td>\n",
       "    </tr>\n",
       "    <tr>\n",
       "      <th>3</th>\n",
       "      <td>7JYdWkrLSPkdwr4</td>\n",
       "      <td>136</td>\n",
       "      <td>13278.527250</td>\n",
       "      <td>5.044330</td>\n",
       "      <td>0</td>\n",
       "    </tr>\n",
       "    <tr>\n",
       "      <th>4</th>\n",
       "      <td>McdE0feGgRqW7Ca</td>\n",
       "      <td>136</td>\n",
       "      <td>13719.097506</td>\n",
       "      <td>5.044330</td>\n",
       "      <td>0</td>\n",
       "    </tr>\n",
       "    <tr>\n",
       "      <th>...</th>\n",
       "      <td>...</td>\n",
       "      <td>...</td>\n",
       "      <td>...</td>\n",
       "      <td>...</td>\n",
       "      <td>...</td>\n",
       "    </tr>\n",
       "    <tr>\n",
       "      <th>743</th>\n",
       "      <td>wCURE6d3bPkepu2</td>\n",
       "      <td>169</td>\n",
       "      <td>14232.372260</td>\n",
       "      <td>6.001389</td>\n",
       "      <td>0</td>\n",
       "    </tr>\n",
       "    <tr>\n",
       "      <th>744</th>\n",
       "      <td>z9Y9gH1T5YWrNuG</td>\n",
       "      <td>169</td>\n",
       "      <td>13958.143903</td>\n",
       "      <td>6.001389</td>\n",
       "      <td>0</td>\n",
       "    </tr>\n",
       "    <tr>\n",
       "      <th>745</th>\n",
       "      <td>zBIq5rxdHJRwDNY</td>\n",
       "      <td>169</td>\n",
       "      <td>14192.439087</td>\n",
       "      <td>6.001389</td>\n",
       "      <td>0</td>\n",
       "    </tr>\n",
       "    <tr>\n",
       "      <th>746</th>\n",
       "      <td>zVJPv84UY57bAof</td>\n",
       "      <td>169</td>\n",
       "      <td>14450.859629</td>\n",
       "      <td>6.001389</td>\n",
       "      <td>0</td>\n",
       "    </tr>\n",
       "    <tr>\n",
       "      <th>747</th>\n",
       "      <td>YxYtjZvoooNbGkE</td>\n",
       "      <td>169</td>\n",
       "      <td>14391.986779</td>\n",
       "      <td>6.001389</td>\n",
       "      <td>0</td>\n",
       "    </tr>\n",
       "  </tbody>\n",
       "</table>\n",
       "<p>748 rows × 5 columns</p>\n",
       "</div>"
      ],
      "text/plain": [
       "          SOURCE_KEY  DAY  Conversion_coeff  offset_from_max  \\\n",
       "0    1BY6WEcLGh8j5v7  136      12924.970538         5.044330   \n",
       "1    1IF53ai7Xc0U56Y  136      13583.565077         5.044330   \n",
       "2    3PZuoBAID5Wc2HD  136      13435.806642         5.044330   \n",
       "3    7JYdWkrLSPkdwr4  136      13278.527250         5.044330   \n",
       "4    McdE0feGgRqW7Ca  136      13719.097506         5.044330   \n",
       "..               ...  ...               ...              ...   \n",
       "743  wCURE6d3bPkepu2  169      14232.372260         6.001389   \n",
       "744  z9Y9gH1T5YWrNuG  169      13958.143903         6.001389   \n",
       "745  zBIq5rxdHJRwDNY  169      14192.439087         6.001389   \n",
       "746  zVJPv84UY57bAof  169      14450.859629         6.001389   \n",
       "747  YxYtjZvoooNbGkE  169      14391.986779         6.001389   \n",
       "\n",
       "     alarm_negative_trend  \n",
       "0                       0  \n",
       "1                       0  \n",
       "2                       0  \n",
       "3                       0  \n",
       "4                       0  \n",
       "..                    ...  \n",
       "743                     0  \n",
       "744                     0  \n",
       "745                     0  \n",
       "746                     0  \n",
       "747                     0  \n",
       "\n",
       "[748 rows x 5 columns]"
      ]
     },
     "execution_count": 171,
     "metadata": {},
     "output_type": "execute_result"
    }
   ],
   "source": [
    "efficiency_alarms"
   ]
  },
  {
   "cell_type": "code",
   "execution_count": 172,
   "metadata": {},
   "outputs": [
    {
     "data": {
      "text/html": [
       "<div>\n",
       "<style scoped>\n",
       "    .dataframe tbody tr th:only-of-type {\n",
       "        vertical-align: middle;\n",
       "    }\n",
       "\n",
       "    .dataframe tbody tr th {\n",
       "        vertical-align: top;\n",
       "    }\n",
       "\n",
       "    .dataframe thead th {\n",
       "        text-align: right;\n",
       "    }\n",
       "</style>\n",
       "<table border=\"1\" class=\"dataframe\">\n",
       "  <thead>\n",
       "    <tr style=\"text-align: right;\">\n",
       "      <th></th>\n",
       "      <th>SOURCE_KEY</th>\n",
       "      <th>DAY</th>\n",
       "      <th>Conversion_coeff</th>\n",
       "      <th>offset_from_max</th>\n",
       "      <th>alarm_negative_trend</th>\n",
       "    </tr>\n",
       "  </thead>\n",
       "  <tbody>\n",
       "    <tr>\n",
       "      <th>402</th>\n",
       "      <td>WRmjgnKYAwPKWDb</td>\n",
       "      <td>154</td>\n",
       "      <td>13676.693828</td>\n",
       "      <td>3.859735</td>\n",
       "      <td>1</td>\n",
       "    </tr>\n",
       "  </tbody>\n",
       "</table>\n",
       "</div>"
      ],
      "text/plain": [
       "          SOURCE_KEY  DAY  Conversion_coeff  offset_from_max  \\\n",
       "402  WRmjgnKYAwPKWDb  154      13676.693828         3.859735   \n",
       "\n",
       "     alarm_negative_trend  \n",
       "402                     1  "
      ]
     },
     "execution_count": 172,
     "metadata": {},
     "output_type": "execute_result"
    }
   ],
   "source": [
    "efficiency_alarms[efficiency_alarms['alarm_negative_trend']==1]"
   ]
  },
  {
   "cell_type": "code",
   "execution_count": 175,
   "metadata": {},
   "outputs": [
    {
     "data": {
      "text/plain": [
       "<matplotlib.legend.Legend at 0x1a14b21c430>"
      ]
     },
     "execution_count": 175,
     "metadata": {},
     "output_type": "execute_result"
    },
    {
     "data": {
      "image/png": "[encoded data removed]",
      "text/plain": [
       "<Figure size 432x288 with 1 Axes>"
      ]
     },
     "metadata": {
      "needs_background": "light"
     },
     "output_type": "display_data"
    }
   ],
   "source": [
    "for inv in efficiency_alarms[efficiency_alarms['alarm_negative_trend']==1].SOURCE_KEY.unique():\n",
    "    plt.plot(efficiency_alarms[efficiency_alarms.SOURCE_KEY==inv]['DAY'], efficiency_alarms[efficiency_alarms.SOURCE_KEY==inv]['Conversion_coeff']/efficiency_alarms[efficiency_alarms.SOURCE_KEY==inv]['Conversion_coeff'].max(), '.', label=inv)\n",
    "#plt.plot(efficiency_alarms[efficiency_alarms.SOURCE_KEY==inv]['DAY'], efficiency_alarms[efficiency_alarms.SOURCE_KEY==inv]['offset_from_max']/efficiency_alarms[efficiency_alarms.SOURCE_KEY==inv]['offset_from_max'].max(), '.')\n",
    "plt.legend()"
   ]
  },
  {
   "cell_type": "code",
   "execution_count": 141,
   "metadata": {},
   "outputs": [],
   "source": [
    "data=conversion_data_lowT\n",
    "data=data.merge(C_day, on='DAY')\n",
    "data['efficiency_trend']=0\n",
    "data['weather_trend']=0\n",
    "data['alarm_negative_trend']=0\n",
    "for inv in data.SOURCE_KEY.unique():\n",
    "    data.loc[data.SOURCE_KEY==inv, 'efficiency_trend']=data[data.SOURCE_KEY==inv]['DAY'].rolling(window=10).corr(data[data.SOURCE_KEY==inv]['Conversion_coeff'])\n",
    "    data.loc[data.SOURCE_KEY==inv, 'weather_trend']=data[data.SOURCE_KEY==inv]['Conversion_coeff'].rolling(window=10).corr(data[data.SOURCE_KEY==inv]['offset_from_max'])\n",
    "data.loc[(data['efficiency_trend']<=-0.75)&(data['weather_trend']<=0), 'alarm_negative_trend']=1"
   ]
  },
  {
   "cell_type": "code",
   "execution_count": 142,
   "metadata": {},
   "outputs": [
    {
     "data": {
      "text/html": [
       "<div>\n",
       "<style scoped>\n",
       "    .dataframe tbody tr th:only-of-type {\n",
       "        vertical-align: middle;\n",
       "    }\n",
       "\n",
       "    .dataframe tbody tr th {\n",
       "        vertical-align: top;\n",
       "    }\n",
       "\n",
       "    .dataframe thead th {\n",
       "        text-align: right;\n",
       "    }\n",
       "</style>\n",
       "<table border=\"1\" class=\"dataframe\">\n",
       "  <thead>\n",
       "    <tr style=\"text-align: right;\">\n",
       "      <th></th>\n",
       "      <th>SOURCE_KEY</th>\n",
       "      <th>DAY</th>\n",
       "      <th>Conversion_coeff</th>\n",
       "      <th>offset_from_max</th>\n",
       "      <th>efficiency_trend</th>\n",
       "      <th>weather_trend</th>\n",
       "      <th>alarm_negative_trend</th>\n",
       "    </tr>\n",
       "  </thead>\n",
       "  <tbody>\n",
       "    <tr>\n",
       "      <th>0</th>\n",
       "      <td>1BY6WEcLGh8j5v7</td>\n",
       "      <td>136</td>\n",
       "      <td>12924.970538</td>\n",
       "      <td>5.044330</td>\n",
       "      <td>NaN</td>\n",
       "      <td>NaN</td>\n",
       "      <td>0</td>\n",
       "    </tr>\n",
       "    <tr>\n",
       "      <th>1</th>\n",
       "      <td>1IF53ai7Xc0U56Y</td>\n",
       "      <td>136</td>\n",
       "      <td>13583.565077</td>\n",
       "      <td>5.044330</td>\n",
       "      <td>NaN</td>\n",
       "      <td>NaN</td>\n",
       "      <td>0</td>\n",
       "    </tr>\n",
       "    <tr>\n",
       "      <th>2</th>\n",
       "      <td>3PZuoBAID5Wc2HD</td>\n",
       "      <td>136</td>\n",
       "      <td>13435.806642</td>\n",
       "      <td>5.044330</td>\n",
       "      <td>NaN</td>\n",
       "      <td>NaN</td>\n",
       "      <td>0</td>\n",
       "    </tr>\n",
       "    <tr>\n",
       "      <th>3</th>\n",
       "      <td>7JYdWkrLSPkdwr4</td>\n",
       "      <td>136</td>\n",
       "      <td>13278.527250</td>\n",
       "      <td>5.044330</td>\n",
       "      <td>NaN</td>\n",
       "      <td>NaN</td>\n",
       "      <td>0</td>\n",
       "    </tr>\n",
       "    <tr>\n",
       "      <th>4</th>\n",
       "      <td>McdE0feGgRqW7Ca</td>\n",
       "      <td>136</td>\n",
       "      <td>13719.097506</td>\n",
       "      <td>5.044330</td>\n",
       "      <td>NaN</td>\n",
       "      <td>NaN</td>\n",
       "      <td>0</td>\n",
       "    </tr>\n",
       "    <tr>\n",
       "      <th>...</th>\n",
       "      <td>...</td>\n",
       "      <td>...</td>\n",
       "      <td>...</td>\n",
       "      <td>...</td>\n",
       "      <td>...</td>\n",
       "      <td>...</td>\n",
       "      <td>...</td>\n",
       "    </tr>\n",
       "    <tr>\n",
       "      <th>743</th>\n",
       "      <td>wCURE6d3bPkepu2</td>\n",
       "      <td>169</td>\n",
       "      <td>14232.372260</td>\n",
       "      <td>6.001389</td>\n",
       "      <td>0.397255</td>\n",
       "      <td>0.656052</td>\n",
       "      <td>0</td>\n",
       "    </tr>\n",
       "    <tr>\n",
       "      <th>744</th>\n",
       "      <td>z9Y9gH1T5YWrNuG</td>\n",
       "      <td>169</td>\n",
       "      <td>13958.143903</td>\n",
       "      <td>6.001389</td>\n",
       "      <td>0.569863</td>\n",
       "      <td>0.796213</td>\n",
       "      <td>0</td>\n",
       "    </tr>\n",
       "    <tr>\n",
       "      <th>745</th>\n",
       "      <td>zBIq5rxdHJRwDNY</td>\n",
       "      <td>169</td>\n",
       "      <td>14192.439087</td>\n",
       "      <td>6.001389</td>\n",
       "      <td>0.184362</td>\n",
       "      <td>0.641890</td>\n",
       "      <td>0</td>\n",
       "    </tr>\n",
       "    <tr>\n",
       "      <th>746</th>\n",
       "      <td>zVJPv84UY57bAof</td>\n",
       "      <td>169</td>\n",
       "      <td>14450.859629</td>\n",
       "      <td>6.001389</td>\n",
       "      <td>0.124516</td>\n",
       "      <td>0.798959</td>\n",
       "      <td>0</td>\n",
       "    </tr>\n",
       "    <tr>\n",
       "      <th>747</th>\n",
       "      <td>YxYtjZvoooNbGkE</td>\n",
       "      <td>169</td>\n",
       "      <td>14391.986779</td>\n",
       "      <td>6.001389</td>\n",
       "      <td>0.275561</td>\n",
       "      <td>0.681732</td>\n",
       "      <td>0</td>\n",
       "    </tr>\n",
       "  </tbody>\n",
       "</table>\n",
       "<p>748 rows × 7 columns</p>\n",
       "</div>"
      ],
      "text/plain": [
       "          SOURCE_KEY  DAY  Conversion_coeff  offset_from_max  \\\n",
       "0    1BY6WEcLGh8j5v7  136      12924.970538         5.044330   \n",
       "1    1IF53ai7Xc0U56Y  136      13583.565077         5.044330   \n",
       "2    3PZuoBAID5Wc2HD  136      13435.806642         5.044330   \n",
       "3    7JYdWkrLSPkdwr4  136      13278.527250         5.044330   \n",
       "4    McdE0feGgRqW7Ca  136      13719.097506         5.044330   \n",
       "..               ...  ...               ...              ...   \n",
       "743  wCURE6d3bPkepu2  169      14232.372260         6.001389   \n",
       "744  z9Y9gH1T5YWrNuG  169      13958.143903         6.001389   \n",
       "745  zBIq5rxdHJRwDNY  169      14192.439087         6.001389   \n",
       "746  zVJPv84UY57bAof  169      14450.859629         6.001389   \n",
       "747  YxYtjZvoooNbGkE  169      14391.986779         6.001389   \n",
       "\n",
       "     efficiency_trend  weather_trend  alarm_negative_trend  \n",
       "0                 NaN            NaN                     0  \n",
       "1                 NaN            NaN                     0  \n",
       "2                 NaN            NaN                     0  \n",
       "3                 NaN            NaN                     0  \n",
       "4                 NaN            NaN                     0  \n",
       "..                ...            ...                   ...  \n",
       "743          0.397255       0.656052                     0  \n",
       "744          0.569863       0.796213                     0  \n",
       "745          0.184362       0.641890                     0  \n",
       "746          0.124516       0.798959                     0  \n",
       "747          0.275561       0.681732                     0  \n",
       "\n",
       "[748 rows x 7 columns]"
      ]
     },
     "execution_count": 142,
     "metadata": {},
     "output_type": "execute_result"
    }
   ],
   "source": [
    "data"
   ]
  },
  {
   "cell_type": "code",
   "execution_count": 145,
   "metadata": {},
   "outputs": [
    {
     "data": {
      "text/plain": [
       "(135.0, 170.0)"
      ]
     },
     "execution_count": 145,
     "metadata": {},
     "output_type": "execute_result"
    },
    {
     "data": {
      "image/png": "[encoded data removed]",
      "text/plain": [
       "<Figure size 432x288 with 1 Axes>"
      ]
     },
     "metadata": {
      "needs_background": "light"
     },
     "output_type": "display_data"
    }
   ],
   "source": [
    "for inv in data.SOURCE_KEY.unique():\n",
    "    plt.plot(data[data.SOURCE_KEY==inv]['DAY'], data[data.SOURCE_KEY==inv]['efficiency_trend'], '.', label=inv)\n",
    "    plt.plot(data[data.SOURCE_KEY==inv]['DAY'], data[data.SOURCE_KEY==inv]['weather_trend'])\n",
    "plt.xlim(135, 170)"
   ]
  },
  {
   "cell_type": "code",
   "execution_count": 147,
   "metadata": {},
   "outputs": [
    {
     "data": {
      "text/plain": [
       "<matplotlib.legend.Legend at 0x1a14af89c10>"
      ]
     },
     "execution_count": 147,
     "metadata": {},
     "output_type": "execute_result"
    },
    {
     "data": {
      "image/png": "[encoded data removed]",
      "text/plain": [
       "<Figure size 432x288 with 1 Axes>"
      ]
     },
     "metadata": {
      "needs_background": "light"
     },
     "output_type": "display_data"
    }
   ],
   "source": [
    "for inv in data[(data['efficiency_trend']<=-0.60)&(data['weather_trend']<=0)].SOURCE_KEY.unique():\n",
    "    plt.plot(data[data.SOURCE_KEY==inv]['DAY'], data[data.SOURCE_KEY==inv]['Conversion_coeff'], '.', label=inv)\n",
    "plt.legend()"
   ]
  },
  {
   "cell_type": "code",
   "execution_count": 148,
   "metadata": {},
   "outputs": [
    {
     "data": {
      "text/html": [
       "<div>\n",
       "<style scoped>\n",
       "    .dataframe tbody tr th:only-of-type {\n",
       "        vertical-align: middle;\n",
       "    }\n",
       "\n",
       "    .dataframe tbody tr th {\n",
       "        vertical-align: top;\n",
       "    }\n",
       "\n",
       "    .dataframe thead th {\n",
       "        text-align: right;\n",
       "    }\n",
       "</style>\n",
       "<table border=\"1\" class=\"dataframe\">\n",
       "  <thead>\n",
       "    <tr style=\"text-align: right;\">\n",
       "      <th></th>\n",
       "      <th>SOURCE_KEY</th>\n",
       "      <th>DAY</th>\n",
       "      <th>Conversion_coeff</th>\n",
       "      <th>offset_from_max</th>\n",
       "      <th>efficiency_trend</th>\n",
       "      <th>weather_trend</th>\n",
       "      <th>alarm_negative_trend</th>\n",
       "    </tr>\n",
       "  </thead>\n",
       "  <tbody>\n",
       "    <tr>\n",
       "      <th>402</th>\n",
       "      <td>WRmjgnKYAwPKWDb</td>\n",
       "      <td>154</td>\n",
       "      <td>13676.693828</td>\n",
       "      <td>3.859735</td>\n",
       "      <td>-0.619417</td>\n",
       "      <td>-0.509848</td>\n",
       "      <td>0</td>\n",
       "    </tr>\n",
       "  </tbody>\n",
       "</table>\n",
       "</div>"
      ],
      "text/plain": [
       "          SOURCE_KEY  DAY  Conversion_coeff  offset_from_max  \\\n",
       "402  WRmjgnKYAwPKWDb  154      13676.693828         3.859735   \n",
       "\n",
       "     efficiency_trend  weather_trend  alarm_negative_trend  \n",
       "402         -0.619417      -0.509848                     0  "
      ]
     },
     "execution_count": 148,
     "metadata": {},
     "output_type": "execute_result"
    }
   ],
   "source": [
    "data[(data['efficiency_trend']<=-0.60)&(data['weather_trend']<=0)]"
   ]
  },
  {
   "cell_type": "code",
   "execution_count": 84,
   "metadata": {},
   "outputs": [
    {
     "data": {
      "text/plain": [
       "<matplotlib.legend.Legend at 0x1a148a001f0>"
      ]
     },
     "execution_count": 84,
     "metadata": {},
     "output_type": "execute_result"
    },
    {
     "data": {
      "image/png": "[encoded data removed]",
      "text/plain": [
       "<Figure size 432x288 with 1 Axes>"
      ]
     },
     "metadata": {
      "needs_background": "light"
     },
     "output_type": "display_data"
    }
   ],
   "source": [
    "for inv in data[(data['efficiency_trend']>=0.5)&(data['weather_trend']<=-0.5)].SOURCE_KEY.unique():\n",
    "    plt.plot(data[data.SOURCE_KEY==inv]['DAY'], data[data.SOURCE_KEY==inv]['Conversion_coeff'], '.', label=inv)\n",
    "plt.legend()"
   ]
  },
  {
   "cell_type": "code",
   "execution_count": 34,
   "metadata": {},
   "outputs": [
    {
     "name": "stdout",
     "output_type": "stream",
     "text": [
      "['ZoEaEvLYb1n2sOq' 'uHbuxQJl8lW7ozc' 'zBIq5rxdHJRwDNY'] ['McdE0feGgRqW7Ca' 'iCRJl6heRkivqQ3' 'rGa61gmuvPhdLxV' 'zBIq5rxdHJRwDNY']\n"
     ]
    }
   ],
   "source": [
    "print(data[data['efficiency_trend']<=-0.8].SOURCE_KEY.unique(), data[data['efficiency_trend']>=0.8].SOURCE_KEY.unique())"
   ]
  },
  {
   "cell_type": "code",
   "execution_count": 39,
   "metadata": {},
   "outputs": [
    {
     "data": {
      "text/plain": [
       "[<matplotlib.lines.Line2D at 0x1a1495fba00>]"
      ]
     },
     "execution_count": 39,
     "metadata": {},
     "output_type": "execute_result"
    },
    {
     "data": {
      "image/png": "[encoded data removed]",
      "text/plain": [
       "<Figure size 432x288 with 1 Axes>"
      ]
     },
     "metadata": {
      "needs_background": "light"
     },
     "output_type": "display_data"
    }
   ],
   "source": [
    "inv=\"ZoEaEvLYb1n2sOq\"\n",
    "plt.plot(data[data.SOURCE_KEY==inv]['DAY'], data[data.SOURCE_KEY==inv]['Conversion_coeff'], '.', label=inv)\n",
    "inv=\"pkci93gMrogZuBj\"\n",
    "plt.plot(data[data.SOURCE_KEY==inv]['DAY'], data[data.SOURCE_KEY==inv]['Conversion_coeff'], 'r.', label=inv)"
   ]
  },
  {
   "cell_type": "code",
   "execution_count": 35,
   "metadata": {},
   "outputs": [
    {
     "data": {
      "text/plain": [
       "array(['1BY6WEcLGh8j5v7', '1IF53ai7Xc0U56Y', '3PZuoBAID5Wc2HD',\n",
       "       '7JYdWkrLSPkdwr4', 'McdE0feGgRqW7Ca', 'VHMLBKoKgIrUVDU',\n",
       "       'WRmjgnKYAwPKWDb', 'ZnxXDlPa8U1GXgE', 'ZoEaEvLYb1n2sOq',\n",
       "       'adLQvlD726eNBSB', 'bvBOhCH3iADSZry', 'iCRJl6heRkivqQ3',\n",
       "       'ih0vzX44oOqAx2f', 'pkci93gMrogZuBj', 'rGa61gmuvPhdLxV',\n",
       "       'sjndEbLyjtCKgGv', 'uHbuxQJl8lW7ozc', 'wCURE6d3bPkepu2',\n",
       "       'z9Y9gH1T5YWrNuG', 'zBIq5rxdHJRwDNY', 'zVJPv84UY57bAof',\n",
       "       'YxYtjZvoooNbGkE'], dtype=object)"
      ]
     },
     "execution_count": 35,
     "metadata": {},
     "output_type": "execute_result"
    }
   ],
   "source": [
    "data[(data['efficiency_trend']>=-0.5)&(data['efficiency_trend']<=0.5)].SOURCE_KEY.unique()"
   ]
  },
  {
   "cell_type": "code",
   "execution_count": 11,
   "metadata": {},
   "outputs": [],
   "source": [
    "def negative_trend(data):\n",
    "    data['neg_trend']=0\n",
    "    for inv in data.SOURCE_KEY.unique():\n",
    "        if data[data.SOURCE_KEY==inv][['DAY', 'Conversion_coeff']].corr()['Conversion_coeff']['DAY']<=0:\n",
    "            data.neg_trend[(data.SOURCE_KEY==inv)& (data.DAY==169)]=1\n",
    "    return(data)"
   ]
  },
  {
   "cell_type": "code",
   "execution_count": 12,
   "metadata": {
    "scrolled": true
   },
   "outputs": [],
   "source": [
    "neg=negative_trend(conversion_data_lowT)"
   ]
  },
  {
   "cell_type": "code",
   "execution_count": 13,
   "metadata": {
    "scrolled": true
   },
   "outputs": [
    {
     "data": {
      "text/html": [
       "<div>\n",
       "<style scoped>\n",
       "    .dataframe tbody tr th:only-of-type {\n",
       "        vertical-align: middle;\n",
       "    }\n",
       "\n",
       "    .dataframe tbody tr th {\n",
       "        vertical-align: top;\n",
       "    }\n",
       "\n",
       "    .dataframe thead th {\n",
       "        text-align: right;\n",
       "    }\n",
       "</style>\n",
       "<table border=\"1\" class=\"dataframe\">\n",
       "  <thead>\n",
       "    <tr style=\"text-align: right;\">\n",
       "      <th></th>\n",
       "      <th>SOURCE_KEY</th>\n",
       "      <th>DAY</th>\n",
       "      <th>Conversion_coeff</th>\n",
       "      <th>neg_trend</th>\n",
       "    </tr>\n",
       "  </thead>\n",
       "  <tbody>\n",
       "  </tbody>\n",
       "</table>\n",
       "</div>"
      ],
      "text/plain": [
       "Empty DataFrame\n",
       "Columns: [SOURCE_KEY, DAY, Conversion_coeff, neg_trend]\n",
       "Index: []"
      ]
     },
     "execution_count": 13,
     "metadata": {},
     "output_type": "execute_result"
    }
   ],
   "source": [
    "neg[neg.neg_trend==1]"
   ]
  },
  {
   "cell_type": "markdown",
   "metadata": {},
   "source": [
    "#### AK changed slightly the format of the strong outlier detection function"
   ]
  },
  {
   "cell_type": "code",
   "execution_count": 223,
   "metadata": {},
   "outputs": [],
   "source": [
    "def strong_outliers(data, outlier_coeff, window=20):\n",
    "    \"\"\"\n",
    "    Given a dataframe of inverter daily efficiencies calculates efficiency jumps and falls relative to inverter history.\n",
    "    \"\"\"\n",
    "    data['alarm_efficiency_fall']=0\n",
    "    data['alarm_efficiency_jump']=0\n",
    "    data['efficiency_lower_limit']=0\n",
    "    data['efficiency_higher_limit']=0\n",
    "    if window:\n",
    "        for inv in data.SOURCE_KEY.unique():\n",
    "            data.loc[data.SOURCE_KEY==inv, 'efficiency_lower_limit']=data[data.SOURCE_KEY==inv]['Conversion_coeff'].rolling(window=window).mean()-outlier_coeff*data[data.SOURCE_KEY==inv]['Conversion_coeff'].rolling(window=window).std()\n",
    "            data.loc[data.SOURCE_KEY==inv, 'efficiency_higher_limit']=data[data.SOURCE_KEY==inv]['Conversion_coeff'].rolling(window=window).mean()+outlier_coeff*data[data.SOURCE_KEY==inv]['Conversion_coeff'].rolling(window=window).std()\n",
    "    else:\n",
    "        for inv in data.SOURCE_KEY.unique():\n",
    "            data.loc[data.SOURCE_KEY==inv, 'efficiency_lower_limit']=data[data.SOURCE_KEY==inv]['Conversion_coeff'].mean()-outlier_coeff*data[data.SOURCE_KEY==inv]['Conversion_coeff'].std()\n",
    "            data.loc[data.SOURCE_KEY==inv, 'efficiency_higher_limit']=data[data.SOURCE_KEY==inv]['Conversion_coeff'].mean()+outlier_coeff*data[data.SOURCE_KEY==inv]['Conversion_coeff'].std()\n",
    "\n",
    "    data.loc[data['Conversion_coeff']>data['efficiency_higher_limit'], 'alarm_efficiency_jump']=1\n",
    "    data.loc[data['Conversion_coeff']<data['efficiency_lower_limit'], 'alarm_efficiency_fall']=1\n",
    "    return data.drop(columns=['efficiency_lower_limit', 'efficiency_higher_limit'])"
   ]
  },
  {
   "cell_type": "code",
   "execution_count": 226,
   "metadata": {},
   "outputs": [],
   "source": [
    "final_data=strong_outliers(conversion_data_lowT, 3, window=False)"
   ]
  },
  {
   "cell_type": "code",
   "execution_count": 227,
   "metadata": {},
   "outputs": [
    {
     "data": {
      "text/plain": [
       "[<matplotlib.lines.Line2D at 0x1a14cb17340>]"
      ]
     },
     "execution_count": 227,
     "metadata": {},
     "output_type": "execute_result"
    },
    {
     "data": {
      "image/png": "[encoded data removed]",
      "text/plain": [
       "<Figure size 432x288 with 1 Axes>"
      ]
     },
     "metadata": {
      "needs_background": "light"
     },
     "output_type": "display_data"
    }
   ],
   "source": [
    "data=final_data\n",
    "for inv in data.SOURCE_KEY.unique():\n",
    "    plt.plot(data[data.SOURCE_KEY==inv]['DAY'], data[data.SOURCE_KEY==inv]['Conversion_coeff'], 'b.')\n",
    "plt.plot(data[data.alarm_efficiency_fall==1]['DAY'], data[data.alarm_efficiency_fall==1]['Conversion_coeff'], 'r.')\n",
    "#plt.plot(data[data.alarm_efficiency_jump==1]['DAY'], data[data.alarm_efficiency_jump==1]['Conversion_coeff'], 'r.')"
   ]
  },
  {
   "cell_type": "code",
   "execution_count": null,
   "metadata": {},
   "outputs": [],
   "source": []
  }
 ],
 "metadata": {
  "kernelspec": {
   "display_name": "Python 3",
   "language": "python",
   "name": "python3"
  },
  "language_info": {
   "codemirror_mode": {
    "name": "ipython",
    "version": 3
   },
   "file_extension": ".py",
   "mimetype": "text/x-python",
   "name": "python",
   "nbconvert_exporter": "python",
   "pygments_lexer": "ipython3",
   "version": "3.8.5"
  }
 },
 "nbformat": 4,
 "nbformat_minor": 4
}
