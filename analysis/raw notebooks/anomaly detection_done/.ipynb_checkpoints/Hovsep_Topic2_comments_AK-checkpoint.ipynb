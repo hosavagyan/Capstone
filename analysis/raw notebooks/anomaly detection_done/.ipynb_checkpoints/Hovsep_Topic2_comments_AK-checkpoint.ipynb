{
 "cells": [
  {
   "cell_type": "code",
   "execution_count": 1,
   "metadata": {},
   "outputs": [],
   "source": [
    "import pandas as pd\n",
    "import numpy as np\n",
    "from datetime import datetime, timedelta\n",
    "from matplotlib import pyplot as plt\n",
    "from matplotlib import dates as mpl_dates"
   ]
  },
  {
   "cell_type": "code",
   "execution_count": 2,
   "metadata": {},
   "outputs": [],
   "source": [
    "plant_gen = pd.read_csv('../data/Plant_1_Generation_Data.csv')\n",
    "plant_weat = pd.read_csv('../data/Plant_1_Weather_Sensor_Data.csv')\n",
    "\n",
    "# Convert DATR_TIME from string to datetime\n",
    "plant_gen['DATE_TIME'] = pd.to_datetime(plant_gen['DATE_TIME'], format='%Y-%m-%d %H:%M')\n",
    "plant_weat['DATE_TIME'] = pd.to_datetime(plant_weat['DATE_TIME'], format='%Y-%m-%d %H:%M')\n"
   ]
  },
  {
   "cell_type": "code",
   "execution_count": 3,
   "metadata": {},
   "outputs": [
    {
     "data": {
      "image/png": "[encoded data removed]",
      "text/plain": [
       "<Figure size 1080x720 with 1 Axes>"
      ]
     },
     "metadata": {
      "needs_background": "light"
     },
     "output_type": "display_data"
    }
   ],
   "source": [
    "plt.figure(figsize=(15, 10))\n",
    "plt.scatter(plant_gen['AC_POWER'],plant_gen['DC_POWER'])\n",
    "plt.xlabel('AC power')\n",
    "plt.ylabel('DC power')\n",
    "plt.title('AC vs. DC power')\n",
    "coeff = np.polyfit(plant_gen['AC_POWER'],plant_gen['DC_POWER'],1)\n"
   ]
  },
  {
   "cell_type": "code",
   "execution_count": 11,
   "metadata": {},
   "outputs": [
    {
     "ename": "NameError",
     "evalue": "name 'gen_data' is not defined",
     "output_type": "error",
     "traceback": [
      "\u001b[1;31m---------------------------------------------------------------------------\u001b[0m",
      "\u001b[1;31mNameError\u001b[0m                                 Traceback (most recent call last)",
      "\u001b[1;32m<ipython-input-11-a5a4a483d2ee>\u001b[0m in \u001b[0;36m<module>\u001b[1;34m\u001b[0m\n\u001b[0;32m      2\u001b[0m \u001b[0mresidual\u001b[0m \u001b[1;33m=\u001b[0m \u001b[0mpd\u001b[0m\u001b[1;33m.\u001b[0m\u001b[0mDataFrame\u001b[0m\u001b[1;33m(\u001b[0m\u001b[0mresidual\u001b[0m\u001b[1;33m)\u001b[0m\u001b[1;33m\u001b[0m\u001b[1;33m\u001b[0m\u001b[0m\n\u001b[0;32m      3\u001b[0m \u001b[0mplant_gen\u001b[0m\u001b[1;33m[\u001b[0m\u001b[1;34m'AC/DC_residual'\u001b[0m\u001b[1;33m]\u001b[0m \u001b[1;33m=\u001b[0m \u001b[0mresidual\u001b[0m\u001b[1;33m\u001b[0m\u001b[1;33m\u001b[0m\u001b[0m\n\u001b[1;32m----> 4\u001b[1;33m \u001b[0mgen_data\u001b[0m\u001b[1;33m[\u001b[0m\u001b[1;34m\"AC/DC_conversion\"\u001b[0m\u001b[1;33m]\u001b[0m\u001b[1;33m=\u001b[0m\u001b[0mgen_data\u001b[0m\u001b[1;33m[\u001b[0m\u001b[1;34m\"AC_POWER\"\u001b[0m\u001b[1;33m]\u001b[0m\u001b[1;33m/\u001b[0m\u001b[0mgen_data\u001b[0m\u001b[1;33m[\u001b[0m\u001b[1;34m\"DC_POWER\"\u001b[0m\u001b[1;33m]\u001b[0m\u001b[1;33m\u001b[0m\u001b[1;33m\u001b[0m\u001b[0m\n\u001b[0m",
      "\u001b[1;31mNameError\u001b[0m: name 'gen_data' is not defined"
     ]
    }
   ],
   "source": [
    "residual = (plant_gen['DC_POWER']-coeff[0]*plant_gen['AC_POWER'] -coeff[1])**2 # or we can take the absolute value\n",
    "residual = pd.DataFrame(residual)\n",
    "plant_gen['AC/DC_residual'] = residual\n",
    "plant_gen[\"AC/DC_conversion\"]=plant_gen[\"AC_POWER\"]/plant_gen[\"DC_POWER\"]"
   ]
  },
  {
   "cell_type": "code",
   "execution_count": 10,
   "metadata": {},
   "outputs": [
    {
     "data": {
      "text/plain": [
       "4412.321519990385"
      ]
     },
     "execution_count": 10,
     "metadata": {},
     "output_type": "execute_result"
    }
   ],
   "source": [
    "plant_gen['AC/DC_residual'].mean()+plant_gen['AC/DC_residual'].std()"
   ]
  },
  {
   "cell_type": "code",
   "execution_count": 11,
   "metadata": {},
   "outputs": [
    {
     "data": {
      "text/html": [
       "<div>\n",
       "<style scoped>\n",
       "    .dataframe tbody tr th:only-of-type {\n",
       "        vertical-align: middle;\n",
       "    }\n",
       "\n",
       "    .dataframe tbody tr th {\n",
       "        vertical-align: top;\n",
       "    }\n",
       "\n",
       "    .dataframe thead th {\n",
       "        text-align: right;\n",
       "    }\n",
       "</style>\n",
       "<table border=\"1\" class=\"dataframe\">\n",
       "  <thead>\n",
       "    <tr style=\"text-align: right;\">\n",
       "      <th></th>\n",
       "      <th>DATE_TIME</th>\n",
       "      <th>PLANT_ID</th>\n",
       "      <th>SOURCE_KEY</th>\n",
       "      <th>DC_POWER</th>\n",
       "      <th>AC_POWER</th>\n",
       "      <th>DAILY_YIELD</th>\n",
       "      <th>TOTAL_YIELD</th>\n",
       "      <th>AC/DC_ESIM</th>\n",
       "      <th>AC/DC_residual</th>\n",
       "    </tr>\n",
       "  </thead>\n",
       "  <tbody>\n",
       "    <tr>\n",
       "      <td>14290</td>\n",
       "      <td>2020-05-22 13:00:00</td>\n",
       "      <td>4135001</td>\n",
       "      <td>McdE0feGgRqW7Ca</td>\n",
       "      <td>9904.571429</td>\n",
       "      <td>1055.750000</td>\n",
       "      <td>4057.000000</td>\n",
       "      <td>7213112.000</td>\n",
       "      <td>805874.540175</td>\n",
       "      <td>805874.540175</td>\n",
       "    </tr>\n",
       "    <tr>\n",
       "      <td>14302</td>\n",
       "      <td>2020-05-22 13:00:00</td>\n",
       "      <td>4135001</td>\n",
       "      <td>sjndEbLyjtCKgGv</td>\n",
       "      <td>9814.285714</td>\n",
       "      <td>1044.900000</td>\n",
       "      <td>4280.000000</td>\n",
       "      <td>7070166.000</td>\n",
       "      <td>769035.638159</td>\n",
       "      <td>769035.638159</td>\n",
       "    </tr>\n",
       "    <tr>\n",
       "      <td>14287</td>\n",
       "      <td>2020-05-22 13:00:00</td>\n",
       "      <td>4135001</td>\n",
       "      <td>1IF53ai7Xc0U56Y</td>\n",
       "      <td>11413.250000</td>\n",
       "      <td>1090.557143</td>\n",
       "      <td>4384.285714</td>\n",
       "      <td>6237631.286</td>\n",
       "      <td>64892.694920</td>\n",
       "      <td>64892.694920</td>\n",
       "    </tr>\n",
       "    <tr>\n",
       "      <td>14296</td>\n",
       "      <td>2020-05-22 13:00:00</td>\n",
       "      <td>4135001</td>\n",
       "      <td>adLQvlD726eNBSB</td>\n",
       "      <td>11439.500000</td>\n",
       "      <td>1093.771429</td>\n",
       "      <td>4435.000000</td>\n",
       "      <td>6326008.000</td>\n",
       "      <td>61550.585075</td>\n",
       "      <td>61550.585075</td>\n",
       "    </tr>\n",
       "    <tr>\n",
       "      <td>61143</td>\n",
       "      <td>2020-06-14 08:30:00</td>\n",
       "      <td>4135001</td>\n",
       "      <td>zVJPv84UY57bAof</td>\n",
       "      <td>4802.875000</td>\n",
       "      <td>487.671429</td>\n",
       "      <td>618.571429</td>\n",
       "      <td>7337578.571</td>\n",
       "      <td>34378.126928</td>\n",
       "      <td>34378.126928</td>\n",
       "    </tr>\n",
       "    <tr>\n",
       "      <td>...</td>\n",
       "      <td>...</td>\n",
       "      <td>...</td>\n",
       "      <td>...</td>\n",
       "      <td>...</td>\n",
       "      <td>...</td>\n",
       "      <td>...</td>\n",
       "      <td>...</td>\n",
       "      <td>...</td>\n",
       "      <td>...</td>\n",
       "    </tr>\n",
       "    <tr>\n",
       "      <td>32138</td>\n",
       "      <td>2020-05-31 12:45:00</td>\n",
       "      <td>4135001</td>\n",
       "      <td>adLQvlD726eNBSB</td>\n",
       "      <td>13720.714290</td>\n",
       "      <td>1337.771429</td>\n",
       "      <td>3803.428571</td>\n",
       "      <td>6398574.429</td>\n",
       "      <td>1030.110052</td>\n",
       "      <td>1030.110052</td>\n",
       "    </tr>\n",
       "    <tr>\n",
       "      <td>67761</td>\n",
       "      <td>2020-06-17 12:15:00</td>\n",
       "      <td>4135001</td>\n",
       "      <td>uHbuxQJl8lW7ozc</td>\n",
       "      <td>13627.428570</td>\n",
       "      <td>1328.657143</td>\n",
       "      <td>3178.285714</td>\n",
       "      <td>7284213.286</td>\n",
       "      <td>1029.740880</td>\n",
       "      <td>1029.740880</td>\n",
       "    </tr>\n",
       "    <tr>\n",
       "      <td>12090</td>\n",
       "      <td>2020-05-21 11:15:00</td>\n",
       "      <td>4135001</td>\n",
       "      <td>ZnxXDlPa8U1GXgE</td>\n",
       "      <td>13596.285710</td>\n",
       "      <td>1325.614286</td>\n",
       "      <td>3070.000000</td>\n",
       "      <td>6567115.000</td>\n",
       "      <td>1029.689277</td>\n",
       "      <td>1029.689277</td>\n",
       "    </tr>\n",
       "    <tr>\n",
       "      <td>42509</td>\n",
       "      <td>2020-06-05 11:45:00</td>\n",
       "      <td>4135001</td>\n",
       "      <td>uHbuxQJl8lW7ozc</td>\n",
       "      <td>13590.714290</td>\n",
       "      <td>1325.071429</td>\n",
       "      <td>3502.571429</td>\n",
       "      <td>7198037.571</td>\n",
       "      <td>1028.690823</td>\n",
       "      <td>1028.690823</td>\n",
       "    </tr>\n",
       "    <tr>\n",
       "      <td>67756</td>\n",
       "      <td>2020-06-17 12:15:00</td>\n",
       "      <td>4135001</td>\n",
       "      <td>iCRJl6heRkivqQ3</td>\n",
       "      <td>13656.625000</td>\n",
       "      <td>1331.512500</td>\n",
       "      <td>3180.000000</td>\n",
       "      <td>7423486.000</td>\n",
       "      <td>1028.030501</td>\n",
       "      <td>1028.030501</td>\n",
       "    </tr>\n",
       "  </tbody>\n",
       "</table>\n",
       "<p>100 rows × 9 columns</p>\n",
       "</div>"
      ],
      "text/plain": [
       "                DATE_TIME  PLANT_ID       SOURCE_KEY      DC_POWER  \\\n",
       "14290 2020-05-22 13:00:00   4135001  McdE0feGgRqW7Ca   9904.571429   \n",
       "14302 2020-05-22 13:00:00   4135001  sjndEbLyjtCKgGv   9814.285714   \n",
       "14287 2020-05-22 13:00:00   4135001  1IF53ai7Xc0U56Y  11413.250000   \n",
       "14296 2020-05-22 13:00:00   4135001  adLQvlD726eNBSB  11439.500000   \n",
       "61143 2020-06-14 08:30:00   4135001  zVJPv84UY57bAof   4802.875000   \n",
       "...                   ...       ...              ...           ...   \n",
       "32138 2020-05-31 12:45:00   4135001  adLQvlD726eNBSB  13720.714290   \n",
       "67761 2020-06-17 12:15:00   4135001  uHbuxQJl8lW7ozc  13627.428570   \n",
       "12090 2020-05-21 11:15:00   4135001  ZnxXDlPa8U1GXgE  13596.285710   \n",
       "42509 2020-06-05 11:45:00   4135001  uHbuxQJl8lW7ozc  13590.714290   \n",
       "67756 2020-06-17 12:15:00   4135001  iCRJl6heRkivqQ3  13656.625000   \n",
       "\n",
       "          AC_POWER  DAILY_YIELD  TOTAL_YIELD     AC/DC_ESIM  AC/DC_residual  \n",
       "14290  1055.750000  4057.000000  7213112.000  805874.540175   805874.540175  \n",
       "14302  1044.900000  4280.000000  7070166.000  769035.638159   769035.638159  \n",
       "14287  1090.557143  4384.285714  6237631.286   64892.694920    64892.694920  \n",
       "14296  1093.771429  4435.000000  6326008.000   61550.585075    61550.585075  \n",
       "61143   487.671429   618.571429  7337578.571   34378.126928    34378.126928  \n",
       "...            ...          ...          ...            ...             ...  \n",
       "32138  1337.771429  3803.428571  6398574.429    1030.110052     1030.110052  \n",
       "67761  1328.657143  3178.285714  7284213.286    1029.740880     1029.740880  \n",
       "12090  1325.614286  3070.000000  6567115.000    1029.689277     1029.689277  \n",
       "42509  1325.071429  3502.571429  7198037.571    1028.690823     1028.690823  \n",
       "67756  1331.512500  3180.000000  7423486.000    1028.030501     1028.030501  \n",
       "\n",
       "[100 rows x 9 columns]"
      ]
     },
     "execution_count": 11,
     "metadata": {},
     "output_type": "execute_result"
    }
   ],
   "source": [
    "heighst_residuals = plant_gen.sort_values('AC/DC_ESIM', ascending = False).head(100) # pick whatever number you wish\n",
    "heighst_residuals\n"
   ]
  },
  {
   "cell_type": "code",
   "execution_count": 5,
   "metadata": {},
   "outputs": [
    {
     "name": "stderr",
     "output_type": "stream",
     "text": [
      "C:\\Users\\Hovsep Avagyan\\Anaconda3\\lib\\site-packages\\pandas\\plotting\\_matplotlib\\converter.py:103: FutureWarning: Using an implicitly registered datetime converter for a matplotlib plotting method. The converter was registered by pandas on import. Future versions of pandas will require you to explicitly register matplotlib converters.\n",
      "\n",
      "To register the converters:\n",
      "\t>>> from pandas.plotting import register_matplotlib_converters\n",
      "\t>>> register_matplotlib_converters()\n",
      "  warnings.warn(msg, FutureWarning)\n"
     ]
    },
    {
     "data": {
      "text/plain": [
       "<matplotlib.collections.PathCollection at 0x22bbaaf5908>"
      ]
     },
     "execution_count": 5,
     "metadata": {},
     "output_type": "execute_result"
    },
    {
     "data": {
      "image/png": "[encoded data removed]",
      "text/plain": [
       "<Figure size 432x288 with 1 Axes>"
      ]
     },
     "metadata": {
      "needs_background": "light"
     },
     "output_type": "display_data"
    }
   ],
   "source": [
    "# plt.hist(heighst_residuals['AC_POWER']/heighst_residuals['DC_POWER'])\n",
    "\n",
    "plt.scatter(heighst_residuals['DATE_TIME'],heighst_residuals['AC_POWER']/heighst_residuals['DC_POWER'])"
   ]
  },
  {
   "cell_type": "code",
   "execution_count": 6,
   "metadata": {},
   "outputs": [
    {
     "data": {
      "text/plain": [
       "2020-06-14 14:00:00    20\n",
       "2020-06-14 08:30:00    16\n",
       "2020-05-30 12:00:00    10\n",
       "2020-06-17 12:15:00     9\n",
       "2020-06-07 11:15:00     5\n",
       "2020-05-21 11:15:00     4\n",
       "2020-05-22 13:00:00     4\n",
       "2020-06-10 12:00:00     3\n",
       "2020-05-23 12:15:00     3\n",
       "2020-06-06 13:00:00     3\n",
       "2020-05-28 12:15:00     3\n",
       "2020-05-31 12:45:00     2\n",
       "2020-06-13 12:00:00     2\n",
       "2020-06-04 13:00:00     2\n",
       "2020-05-27 14:45:00     2\n",
       "2020-05-22 11:30:00     2\n",
       "2020-06-05 11:45:00     1\n",
       "2020-05-30 12:30:00     1\n",
       "2020-06-09 11:00:00     1\n",
       "2020-06-06 14:15:00     1\n",
       "2020-06-01 11:15:00     1\n",
       "2020-06-03 13:45:00     1\n",
       "2020-06-07 12:00:00     1\n",
       "2020-06-13 11:45:00     1\n",
       "2020-05-22 12:00:00     1\n",
       "2020-06-01 11:30:00     1\n",
       "Name: DATE_TIME, dtype: int64"
      ]
     },
     "execution_count": 6,
     "metadata": {},
     "output_type": "execute_result"
    }
   ],
   "source": [
    "#anomaly AC residuals during a specific time in a day \n",
    "heighst_residuals['DATE_TIME'].value_counts()"
   ]
  },
  {
   "cell_type": "code",
   "execution_count": 7,
   "metadata": {},
   "outputs": [
    {
     "data": {
      "text/html": [
       "<div>\n",
       "<style scoped>\n",
       "    .dataframe tbody tr th:only-of-type {\n",
       "        vertical-align: middle;\n",
       "    }\n",
       "\n",
       "    .dataframe tbody tr th {\n",
       "        vertical-align: top;\n",
       "    }\n",
       "\n",
       "    .dataframe thead th {\n",
       "        text-align: right;\n",
       "    }\n",
       "</style>\n",
       "<table border=\"1\" class=\"dataframe\">\n",
       "  <thead>\n",
       "    <tr style=\"text-align: right;\">\n",
       "      <th></th>\n",
       "      <th>DATE_TIME</th>\n",
       "      <th>PLANT_ID_x</th>\n",
       "      <th>SOURCE_KEY_x</th>\n",
       "      <th>DC_POWER</th>\n",
       "      <th>AC_POWER</th>\n",
       "      <th>DAILY_YIELD</th>\n",
       "      <th>TOTAL_YIELD</th>\n",
       "      <th>AC/DC_ESIM</th>\n",
       "      <th>PLANT_ID_y</th>\n",
       "      <th>SOURCE_KEY_y</th>\n",
       "      <th>AMBIENT_TEMPERATURE</th>\n",
       "      <th>MODULE_TEMPERATURE</th>\n",
       "      <th>IRRADIATION</th>\n",
       "    </tr>\n",
       "  </thead>\n",
       "  <tbody>\n",
       "    <tr>\n",
       "      <td>0</td>\n",
       "      <td>2020-05-22 13:00:00</td>\n",
       "      <td>4135001</td>\n",
       "      <td>McdE0feGgRqW7Ca</td>\n",
       "      <td>9904.571429</td>\n",
       "      <td>1055.750000</td>\n",
       "      <td>4057.000000</td>\n",
       "      <td>7213112.000</td>\n",
       "      <td>805874.540175</td>\n",
       "      <td>4135001</td>\n",
       "      <td>HmiyD2TTLFNqkNe</td>\n",
       "      <td>31.318955</td>\n",
       "      <td>54.857410</td>\n",
       "      <td>0.814844</td>\n",
       "    </tr>\n",
       "    <tr>\n",
       "      <td>1</td>\n",
       "      <td>2020-05-22 13:00:00</td>\n",
       "      <td>4135001</td>\n",
       "      <td>sjndEbLyjtCKgGv</td>\n",
       "      <td>9814.285714</td>\n",
       "      <td>1044.900000</td>\n",
       "      <td>4280.000000</td>\n",
       "      <td>7070166.000</td>\n",
       "      <td>769035.638159</td>\n",
       "      <td>4135001</td>\n",
       "      <td>HmiyD2TTLFNqkNe</td>\n",
       "      <td>31.318955</td>\n",
       "      <td>54.857410</td>\n",
       "      <td>0.814844</td>\n",
       "    </tr>\n",
       "    <tr>\n",
       "      <td>2</td>\n",
       "      <td>2020-05-22 13:00:00</td>\n",
       "      <td>4135001</td>\n",
       "      <td>1IF53ai7Xc0U56Y</td>\n",
       "      <td>11413.250000</td>\n",
       "      <td>1090.557143</td>\n",
       "      <td>4384.285714</td>\n",
       "      <td>6237631.286</td>\n",
       "      <td>64892.694920</td>\n",
       "      <td>4135001</td>\n",
       "      <td>HmiyD2TTLFNqkNe</td>\n",
       "      <td>31.318955</td>\n",
       "      <td>54.857410</td>\n",
       "      <td>0.814844</td>\n",
       "    </tr>\n",
       "    <tr>\n",
       "      <td>3</td>\n",
       "      <td>2020-05-22 13:00:00</td>\n",
       "      <td>4135001</td>\n",
       "      <td>adLQvlD726eNBSB</td>\n",
       "      <td>11439.500000</td>\n",
       "      <td>1093.771429</td>\n",
       "      <td>4435.000000</td>\n",
       "      <td>6326008.000</td>\n",
       "      <td>61550.585075</td>\n",
       "      <td>4135001</td>\n",
       "      <td>HmiyD2TTLFNqkNe</td>\n",
       "      <td>31.318955</td>\n",
       "      <td>54.857410</td>\n",
       "      <td>0.814844</td>\n",
       "    </tr>\n",
       "    <tr>\n",
       "      <td>4</td>\n",
       "      <td>2020-06-14 08:30:00</td>\n",
       "      <td>4135001</td>\n",
       "      <td>zVJPv84UY57bAof</td>\n",
       "      <td>4802.875000</td>\n",
       "      <td>487.671429</td>\n",
       "      <td>618.571429</td>\n",
       "      <td>7337578.571</td>\n",
       "      <td>34378.126928</td>\n",
       "      <td>4135001</td>\n",
       "      <td>HmiyD2TTLFNqkNe</td>\n",
       "      <td>23.901831</td>\n",
       "      <td>29.702831</td>\n",
       "      <td>0.335355</td>\n",
       "    </tr>\n",
       "    <tr>\n",
       "      <td>...</td>\n",
       "      <td>...</td>\n",
       "      <td>...</td>\n",
       "      <td>...</td>\n",
       "      <td>...</td>\n",
       "      <td>...</td>\n",
       "      <td>...</td>\n",
       "      <td>...</td>\n",
       "      <td>...</td>\n",
       "      <td>...</td>\n",
       "      <td>...</td>\n",
       "      <td>...</td>\n",
       "      <td>...</td>\n",
       "      <td>...</td>\n",
       "    </tr>\n",
       "    <tr>\n",
       "      <td>95</td>\n",
       "      <td>2020-05-31 12:45:00</td>\n",
       "      <td>4135001</td>\n",
       "      <td>3PZuoBAID5Wc2HD</td>\n",
       "      <td>13774.142860</td>\n",
       "      <td>1342.985714</td>\n",
       "      <td>3704.857143</td>\n",
       "      <td>7113192.857</td>\n",
       "      <td>1034.163170</td>\n",
       "      <td>4135001</td>\n",
       "      <td>HmiyD2TTLFNqkNe</td>\n",
       "      <td>30.282026</td>\n",
       "      <td>56.958995</td>\n",
       "      <td>1.034330</td>\n",
       "    </tr>\n",
       "    <tr>\n",
       "      <td>96</td>\n",
       "      <td>2020-05-31 12:45:00</td>\n",
       "      <td>4135001</td>\n",
       "      <td>adLQvlD726eNBSB</td>\n",
       "      <td>13720.714290</td>\n",
       "      <td>1337.771429</td>\n",
       "      <td>3803.428571</td>\n",
       "      <td>6398574.429</td>\n",
       "      <td>1030.110052</td>\n",
       "      <td>4135001</td>\n",
       "      <td>HmiyD2TTLFNqkNe</td>\n",
       "      <td>30.282026</td>\n",
       "      <td>56.958995</td>\n",
       "      <td>1.034330</td>\n",
       "    </tr>\n",
       "    <tr>\n",
       "      <td>97</td>\n",
       "      <td>2020-06-06 14:15:00</td>\n",
       "      <td>4135001</td>\n",
       "      <td>uHbuxQJl8lW7ozc</td>\n",
       "      <td>13768.285710</td>\n",
       "      <td>1342.414286</td>\n",
       "      <td>5475.285714</td>\n",
       "      <td>7207848.286</td>\n",
       "      <td>1033.591977</td>\n",
       "      <td>4135001</td>\n",
       "      <td>HmiyD2TTLFNqkNe</td>\n",
       "      <td>27.522467</td>\n",
       "      <td>50.040560</td>\n",
       "      <td>0.943020</td>\n",
       "    </tr>\n",
       "    <tr>\n",
       "      <td>98</td>\n",
       "      <td>2020-06-07 12:00:00</td>\n",
       "      <td>4135001</td>\n",
       "      <td>adLQvlD726eNBSB</td>\n",
       "      <td>13660.625000</td>\n",
       "      <td>1331.900000</td>\n",
       "      <td>3747.750000</td>\n",
       "      <td>6448778.750</td>\n",
       "      <td>1030.220884</td>\n",
       "      <td>4135001</td>\n",
       "      <td>HmiyD2TTLFNqkNe</td>\n",
       "      <td>28.042243</td>\n",
       "      <td>56.312655</td>\n",
       "      <td>1.017538</td>\n",
       "    </tr>\n",
       "    <tr>\n",
       "      <td>99</td>\n",
       "      <td>2020-06-05 11:45:00</td>\n",
       "      <td>4135001</td>\n",
       "      <td>uHbuxQJl8lW7ozc</td>\n",
       "      <td>13590.714290</td>\n",
       "      <td>1325.071429</td>\n",
       "      <td>3502.571429</td>\n",
       "      <td>7198037.571</td>\n",
       "      <td>1028.690823</td>\n",
       "      <td>4135001</td>\n",
       "      <td>HmiyD2TTLFNqkNe</td>\n",
       "      <td>28.785264</td>\n",
       "      <td>60.757050</td>\n",
       "      <td>0.951684</td>\n",
       "    </tr>\n",
       "  </tbody>\n",
       "</table>\n",
       "<p>100 rows × 13 columns</p>\n",
       "</div>"
      ],
      "text/plain": [
       "             DATE_TIME  PLANT_ID_x     SOURCE_KEY_x      DC_POWER  \\\n",
       "0  2020-05-22 13:00:00     4135001  McdE0feGgRqW7Ca   9904.571429   \n",
       "1  2020-05-22 13:00:00     4135001  sjndEbLyjtCKgGv   9814.285714   \n",
       "2  2020-05-22 13:00:00     4135001  1IF53ai7Xc0U56Y  11413.250000   \n",
       "3  2020-05-22 13:00:00     4135001  adLQvlD726eNBSB  11439.500000   \n",
       "4  2020-06-14 08:30:00     4135001  zVJPv84UY57bAof   4802.875000   \n",
       "..                 ...         ...              ...           ...   \n",
       "95 2020-05-31 12:45:00     4135001  3PZuoBAID5Wc2HD  13774.142860   \n",
       "96 2020-05-31 12:45:00     4135001  adLQvlD726eNBSB  13720.714290   \n",
       "97 2020-06-06 14:15:00     4135001  uHbuxQJl8lW7ozc  13768.285710   \n",
       "98 2020-06-07 12:00:00     4135001  adLQvlD726eNBSB  13660.625000   \n",
       "99 2020-06-05 11:45:00     4135001  uHbuxQJl8lW7ozc  13590.714290   \n",
       "\n",
       "       AC_POWER  DAILY_YIELD  TOTAL_YIELD     AC/DC_ESIM  PLANT_ID_y  \\\n",
       "0   1055.750000  4057.000000  7213112.000  805874.540175     4135001   \n",
       "1   1044.900000  4280.000000  7070166.000  769035.638159     4135001   \n",
       "2   1090.557143  4384.285714  6237631.286   64892.694920     4135001   \n",
       "3   1093.771429  4435.000000  6326008.000   61550.585075     4135001   \n",
       "4    487.671429   618.571429  7337578.571   34378.126928     4135001   \n",
       "..          ...          ...          ...            ...         ...   \n",
       "95  1342.985714  3704.857143  7113192.857    1034.163170     4135001   \n",
       "96  1337.771429  3803.428571  6398574.429    1030.110052     4135001   \n",
       "97  1342.414286  5475.285714  7207848.286    1033.591977     4135001   \n",
       "98  1331.900000  3747.750000  6448778.750    1030.220884     4135001   \n",
       "99  1325.071429  3502.571429  7198037.571    1028.690823     4135001   \n",
       "\n",
       "       SOURCE_KEY_y  AMBIENT_TEMPERATURE  MODULE_TEMPERATURE  IRRADIATION  \n",
       "0   HmiyD2TTLFNqkNe            31.318955           54.857410     0.814844  \n",
       "1   HmiyD2TTLFNqkNe            31.318955           54.857410     0.814844  \n",
       "2   HmiyD2TTLFNqkNe            31.318955           54.857410     0.814844  \n",
       "3   HmiyD2TTLFNqkNe            31.318955           54.857410     0.814844  \n",
       "4   HmiyD2TTLFNqkNe            23.901831           29.702831     0.335355  \n",
       "..              ...                  ...                 ...          ...  \n",
       "95  HmiyD2TTLFNqkNe            30.282026           56.958995     1.034330  \n",
       "96  HmiyD2TTLFNqkNe            30.282026           56.958995     1.034330  \n",
       "97  HmiyD2TTLFNqkNe            27.522467           50.040560     0.943020  \n",
       "98  HmiyD2TTLFNqkNe            28.042243           56.312655     1.017538  \n",
       "99  HmiyD2TTLFNqkNe            28.785264           60.757050     0.951684  \n",
       "\n",
       "[100 rows x 13 columns]"
      ]
     },
     "execution_count": 7,
     "metadata": {},
     "output_type": "execute_result"
    }
   ],
   "source": [
    "merged_df = pd.merge(heighst_residuals, plant_weat, how='inner', on='DATE_TIME')\n",
    "merged_df"
   ]
  },
  {
   "cell_type": "code",
   "execution_count": 8,
   "metadata": {},
   "outputs": [
    {
     "data": {
      "image/png": "[encoded data removed]",
      "text/plain": [
       "<Figure size 432x288 with 1 Axes>"
      ]
     },
     "metadata": {
      "needs_background": "light"
     },
     "output_type": "display_data"
    },
    {
     "data": {
      "text/plain": [
       "(array([18.,  1.,  0.,  1.,  0.,  4.,  3., 30., 13., 30.]),\n",
       " array([0.33535477, 0.42398448, 0.51261418, 0.60124389, 0.6898736 ,\n",
       "        0.77850331, 0.86713302, 0.95576272, 1.04439243, 1.13302214,\n",
       "        1.22165185]),\n",
       " <a list of 10 Patch objects>)"
      ]
     },
     "execution_count": 8,
     "metadata": {},
     "output_type": "execute_result"
    },
    {
     "data": {
      "image/png": "[encoded data removed]",
      "text/plain": [
       "<Figure size 432x288 with 1 Axes>"
      ]
     },
     "metadata": {
      "needs_background": "light"
     },
     "output_type": "display_data"
    }
   ],
   "source": [
    "plt.hist(merged_df['MODULE_TEMPERATURE'])\n",
    "plt.show()\n",
    "plt.hist(merged_df['IRRADIATION'])\n",
    "\n"
   ]
  },
  {
   "cell_type": "code",
   "execution_count": 9,
   "metadata": {},
   "outputs": [
    {
     "data": {
      "image/png": "[encoded data removed]",
      "text/plain": [
       "<Figure size 432x288 with 1 Axes>"
      ]
     },
     "metadata": {
      "needs_background": "light"
     },
     "output_type": "display_data"
    },
    {
     "data": {
      "text/plain": [
       "(array([1832.,  212.,  200.,  224.,  216.,  205.,  138.,  113.,   38.,\n",
       "           4.]),\n",
       " array([0.        , 0.12216518, 0.24433037, 0.36649555, 0.48866074,\n",
       "        0.61082592, 0.73299111, 0.85515629, 0.97732148, 1.09948666,\n",
       "        1.22165185]),\n",
       " <a list of 10 Patch objects>)"
      ]
     },
     "execution_count": 9,
     "metadata": {},
     "output_type": "execute_result"
    },
    {
     "data": {
      "image/png": "[encoded data removed]",
      "text/plain": [
       "<Figure size 432x288 with 1 Axes>"
      ]
     },
     "metadata": {
      "needs_background": "light"
     },
     "output_type": "display_data"
    }
   ],
   "source": [
    "plt.hist(plant_weat['MODULE_TEMPERATURE'])\n",
    "plt.show()\n",
    "plt.hist(plant_weat['IRRADIATION'])"
   ]
  },
  {
   "cell_type": "code",
   "execution_count": 10,
   "metadata": {},
   "outputs": [],
   "source": [
    "# plant_gen['daily_average'] = plant_gen['AC_POWER'].rolling(672).mean()\n",
    "# for i,group in  plant_gen.groupby('SOURCE_KEY'):\n",
    "#     plt.plot(group['DATE_TIME'],group['daily_average'])\n",
    "#     plt.show()\n",
    "    "
   ]
  }
 ],
 "metadata": {
  "kernelspec": {
   "display_name": "Python 3",
   "language": "python",
   "name": "python3"
  },
  "language_info": {
   "codemirror_mode": {
    "name": "ipython",
    "version": 3
   },
   "file_extension": ".py",
   "mimetype": "text/x-python",
   "name": "python",
   "nbconvert_exporter": "python",
   "pygments_lexer": "ipython3",
   "version": "3.8.5"
  }
 },
 "nbformat": 4,
 "nbformat_minor": 4
}
